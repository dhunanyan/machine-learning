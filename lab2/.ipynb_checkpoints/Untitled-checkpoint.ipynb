{
 "cells": [
  {
   "cell_type": "code",
   "execution_count": 128,
   "id": "5d9987fb-8807-4490-b246-fe3331a4fd71",
   "metadata": {},
   "outputs": [],
   "source": [
    "import numpy as np\n",
    "import pandas as pd\n",
    "from sklearn.model_selection import train_test_split\n",
    "from sklearn.linear_model import SGDClassifier\n",
    "import time"
   ]
  },
  {
   "cell_type": "code",
   "execution_count": 8,
   "id": "2acd76cd-0bb3-4a5c-8ea1-849e86dcb8a0",
   "metadata": {},
   "outputs": [],
   "source": [
    "from sklearn.datasets import fetch_openml\n",
    "mnist = fetch_openml('mnist_784', version=1)"
   ]
  },
  {
   "cell_type": "code",
   "execution_count": 12,
   "id": "bff36c2f-141f-44b8-ad00-fb8dad91ac5b",
   "metadata": {},
   "outputs": [
    {
     "name": "stdout",
     "output_type": "stream",
     "text": [
      "[[0 0 0 0 0 0 0 0 0 0 0 0 0 0 0 0 0 0 0 0 0 0 0 0 0 0 0 0]\n",
      " [0 0 0 0 0 0 0 0 0 0 0 0 0 0 0 0 0 0 0 0 0 0 0 0 0 0 0 0]\n",
      " [0 0 0 0 0 0 0 0 0 0 0 0 0 0 0 0 0 0 0 0 0 0 0 0 0 0 0 0]\n",
      " [0 0 0 0 0 0 0 0 0 0 0 0 0 0 0 0 0 0 0 0 0 0 0 0 0 0 0 0]\n",
      " [0 0 0 0 0 0 0 0 0 0 0 0 0 0 0 0 0 0 0 0 0 0 0 0 0 0 0 0]\n",
      " [0 0 0 0 0 0 0 0 0 0 0 0 0 0 0 0 0 0 0 0 0 0 0 0 0 0 0 0]\n",
      " [0 0 0 0 0 0 0 0 0 0 0 0 0 0 0 0 0 0 0 0 0 0 0 0 0 0 0 0]\n",
      " [0 0 0 0 0 0 0 0 0 0 0 0 0 1 1 1 1 1 1 0 0 0 0 0 0 0 0 0]\n",
      " [0 0 0 0 0 0 0 0 0 0 0 1 1 1 1 1 1 1 1 0 0 0 0 0 0 0 0 0]\n",
      " [0 0 0 0 0 0 0 0 0 1 1 1 1 1 1 1 1 1 0 0 0 0 0 0 0 0 0 0]\n",
      " [0 0 0 0 0 0 0 1 1 1 1 1 1 1 0 1 1 1 0 0 0 0 0 0 0 0 0 0]\n",
      " [0 0 0 0 0 0 0 1 1 1 1 1 0 0 0 1 1 1 0 0 0 0 0 0 0 0 0 0]\n",
      " [0 0 0 0 0 0 0 0 0 0 0 0 0 0 0 1 1 1 0 0 0 0 0 0 0 0 0 0]\n",
      " [0 0 0 0 0 0 0 0 0 0 0 0 0 0 0 1 1 1 0 0 0 0 0 0 0 0 0 0]\n",
      " [0 0 0 0 0 0 0 0 0 0 0 0 0 0 0 1 1 1 0 0 0 0 0 0 0 0 0 0]\n",
      " [0 0 0 0 0 0 0 0 0 0 0 0 0 0 1 1 1 0 0 0 0 0 0 0 0 0 0 0]\n",
      " [0 0 0 0 0 0 0 0 0 0 0 0 0 0 1 1 1 0 0 0 0 0 0 0 0 0 0 0]\n",
      " [0 0 0 0 0 0 0 0 0 0 0 0 0 0 1 1 1 0 0 0 0 0 0 0 0 0 0 0]\n",
      " [0 0 0 0 0 0 0 0 0 0 0 0 0 0 1 1 0 0 0 0 0 0 0 0 0 0 0 0]\n",
      " [0 0 0 0 0 0 0 0 0 0 0 0 0 0 1 1 0 0 0 0 0 0 0 0 0 0 0 0]\n",
      " [0 0 0 0 0 0 0 0 0 0 0 0 0 1 1 1 0 0 0 0 0 0 0 0 0 0 0 0]\n",
      " [0 0 0 0 0 0 0 0 0 0 0 0 0 1 1 1 0 0 0 0 0 0 0 0 0 0 0 0]\n",
      " [0 0 0 0 0 0 0 0 0 0 0 0 0 1 1 1 0 0 0 0 0 0 0 0 0 0 0 0]\n",
      " [0 0 0 0 0 0 0 0 0 0 0 0 0 1 1 1 0 0 0 0 0 0 0 0 0 0 0 0]\n",
      " [0 0 0 0 0 0 0 0 0 0 0 0 0 1 1 0 0 0 0 0 0 0 0 0 0 0 0 0]\n",
      " [0 0 0 0 0 0 0 0 0 0 0 0 1 1 1 0 0 0 0 0 0 0 0 0 0 0 0 0]\n",
      " [0 0 0 0 0 0 0 0 0 0 0 0 1 1 1 0 0 0 0 0 0 0 0 0 0 0 0 0]\n",
      " [0 0 0 0 0 0 0 0 0 0 0 0 0 0 0 0 0 0 0 0 0 0 0 0 0 0 0 0]]\n"
     ]
    }
   ],
   "source": [
    "data = (np.array(mnist.data.loc[42]).reshape(28, 28) > 0).astype(int)\n",
    "print(data)"
   ]
  },
  {
   "cell_type": "code",
   "execution_count": 67,
   "id": "b6d5c32f-2323-45b7-88cf-aa0c02d6d3ae",
   "metadata": {},
   "outputs": [
    {
     "name": "stdout",
     "output_type": "stream",
     "text": [
      "34999    0\n",
      "56424    0\n",
      "56419    0\n",
      "16705    0\n",
      "56415    0\n",
      "        ..\n",
      "13687    9\n",
      "42651    9\n",
      "58914    9\n",
      "13678    9\n",
      "58529    9\n",
      "Name: class, Length: 70000, dtype: uint8\n",
      "       pixel1  pixel2  pixel3  pixel4  pixel5  pixel6  pixel7  pixel8  pixel9  \\\n",
      "34999     0.0     0.0     0.0     0.0     0.0     0.0     0.0     0.0     0.0   \n",
      "56424     0.0     0.0     0.0     0.0     0.0     0.0     0.0     0.0     0.0   \n",
      "56419     0.0     0.0     0.0     0.0     0.0     0.0     0.0     0.0     0.0   \n",
      "16705     0.0     0.0     0.0     0.0     0.0     0.0     0.0     0.0     0.0   \n",
      "56415     0.0     0.0     0.0     0.0     0.0     0.0     0.0     0.0     0.0   \n",
      "...       ...     ...     ...     ...     ...     ...     ...     ...     ...   \n",
      "13687     0.0     0.0     0.0     0.0     0.0     0.0     0.0     0.0     0.0   \n",
      "42651     0.0     0.0     0.0     0.0     0.0     0.0     0.0     0.0     0.0   \n",
      "58914     0.0     0.0     0.0     0.0     0.0     0.0     0.0     0.0     0.0   \n",
      "13678     0.0     0.0     0.0     0.0     0.0     0.0     0.0     0.0     0.0   \n",
      "58529     0.0     0.0     0.0     0.0     0.0     0.0     0.0     0.0     0.0   \n",
      "\n",
      "       pixel10  ...  pixel775  pixel776  pixel777  pixel778  pixel779  \\\n",
      "34999      0.0  ...       0.0       0.0       0.0       0.0       0.0   \n",
      "56424      0.0  ...       0.0       0.0       0.0       0.0       0.0   \n",
      "56419      0.0  ...       0.0       0.0       0.0       0.0       0.0   \n",
      "16705      0.0  ...       0.0       0.0       0.0       0.0       0.0   \n",
      "56415      0.0  ...       0.0       0.0       0.0       0.0       0.0   \n",
      "...        ...  ...       ...       ...       ...       ...       ...   \n",
      "13687      0.0  ...       0.0       0.0       0.0       0.0       0.0   \n",
      "42651      0.0  ...       0.0       0.0       0.0       0.0       0.0   \n",
      "58914      0.0  ...       0.0       0.0       0.0       0.0       0.0   \n",
      "13678      0.0  ...       0.0       0.0       0.0       0.0       0.0   \n",
      "58529      0.0  ...       0.0       0.0       0.0       0.0       0.0   \n",
      "\n",
      "       pixel780  pixel781  pixel782  pixel783  pixel784  \n",
      "34999       0.0       0.0       0.0       0.0       0.0  \n",
      "56424       0.0       0.0       0.0       0.0       0.0  \n",
      "56419       0.0       0.0       0.0       0.0       0.0  \n",
      "16705       0.0       0.0       0.0       0.0       0.0  \n",
      "56415       0.0       0.0       0.0       0.0       0.0  \n",
      "...         ...       ...       ...       ...       ...  \n",
      "13687       0.0       0.0       0.0       0.0       0.0  \n",
      "42651       0.0       0.0       0.0       0.0       0.0  \n",
      "58914       0.0       0.0       0.0       0.0       0.0  \n",
      "13678       0.0       0.0       0.0       0.0       0.0  \n",
      "58529       0.0       0.0       0.0       0.0       0.0  \n",
      "\n",
      "[70000 rows x 784 columns]\n"
     ]
    }
   ],
   "source": [
    "obj = {'X': mnist[\"data\"], 'y' : mnist[\"target\"].astype(np.uint8)}\n",
    "\n",
    "y = pd.Series(obj['y'])\n",
    "y_sorted = y.sort_values(ascending=True)\n",
    "print(y_sorted)\n",
    "\n",
    "X = obj['X']\n",
    "X_sorted = X.reindex(y_sorted.index)\n",
    "print(X_sorted)\n",
    "\n",
    "X_train, X_test = X_sorted[:56000], X_sorted[56000:]\n",
    "y_train, y_test = y_sorted[:56000], y_sorted[56000:]"
   ]
  },
  {
   "cell_type": "code",
   "execution_count": 68,
   "id": "38e707a2-b5ae-4926-9c31-fb34b0151015",
   "metadata": {},
   "outputs": [
    {
     "name": "stdout",
     "output_type": "stream",
     "text": [
      "34999    0\n",
      "56424    0\n",
      "56419    0\n",
      "16705    0\n",
      "56415    0\n",
      "        ..\n",
      "20694    7\n",
      "68173    7\n",
      "50920    7\n",
      "49301    7\n",
      "69650    7\n",
      "Name: class, Length: 56000, dtype: uint8\n"
     ]
    }
   ],
   "source": [
    "print(y_train)"
   ]
  },
  {
   "cell_type": "code",
   "execution_count": 69,
   "id": "464ce5c5-b34b-4464-8ba2-2b6e7cceca72",
   "metadata": {},
   "outputs": [
    {
     "name": "stdout",
     "output_type": "stream",
     "text": [
      "53213    7\n",
      "53313    7\n",
      "51502    7\n",
      "29282    7\n",
      "53333    7\n",
      "        ..\n",
      "13687    9\n",
      "42651    9\n",
      "58914    9\n",
      "13678    9\n",
      "58529    9\n",
      "Name: class, Length: 14000, dtype: uint8\n"
     ]
    }
   ],
   "source": [
    "print(y_test)"
   ]
  },
  {
   "cell_type": "code",
   "execution_count": 125,
   "id": "391edaba-625b-468f-8c83-924a61f0f5eb",
   "metadata": {},
   "outputs": [],
   "source": [
    "X_train, X_test, y_train, y_test = train_test_split(X, y, test_size=.2)"
   ]
  },
  {
   "cell_type": "code",
   "execution_count": 126,
   "id": "7580ee61-0620-446f-abfd-d9d35cc72b00",
   "metadata": {},
   "outputs": [
    {
     "name": "stdout",
     "output_type": "stream",
     "text": [
      "50181    3\n",
      "44467    8\n",
      "31269    3\n",
      "15564    0\n",
      "47336    4\n",
      "        ..\n",
      "62232    9\n",
      "28192    9\n",
      "8700     3\n",
      "7413     2\n",
      "14284    7\n",
      "Name: class, Length: 56000, dtype: uint8\n"
     ]
    }
   ],
   "source": [
    "print(y_train)"
   ]
  },
  {
   "cell_type": "code",
   "execution_count": 127,
   "id": "20402702-6350-43be-917d-fa97d2662d0e",
   "metadata": {},
   "outputs": [
    {
     "name": "stdout",
     "output_type": "stream",
     "text": [
      "23933    4\n",
      "27087    9\n",
      "47229    1\n",
      "41448    7\n",
      "41545    6\n",
      "        ..\n",
      "3607     2\n",
      "3253     7\n",
      "58024    8\n",
      "19865    3\n",
      "4337     6\n",
      "Name: class, Length: 14000, dtype: uint8\n"
     ]
    }
   ],
   "source": [
    "print(y_test)"
   ]
  },
  {
   "cell_type": "code",
   "execution_count": 133,
   "id": "7a0ef241-af58-4c93-a742-82b5995898d9",
   "metadata": {},
   "outputs": [
    {
     "name": "stdout",
     "output_type": "stream",
     "text": [
      "125.09175395965576\n"
     ]
    }
   ],
   "source": [
    "start = time.time()\n",
    "sgd_clf = SGDClassifier()\n",
    "sgd_clf.fit(X_train, y_train)\n",
    "print(time.time() - start)"
   ]
  },
  {
   "cell_type": "code",
   "execution_count": null,
   "id": "3585bb1d-4c2b-4eaf-a2af-469e3ab4bac1",
   "metadata": {},
   "outputs": [],
   "source": []
  }
 ],
 "metadata": {
  "kernelspec": {
   "display_name": "Python 3 (ipykernel)",
   "language": "python",
   "name": "python3"
  },
  "language_info": {
   "codemirror_mode": {
    "name": "ipython",
    "version": 3
   },
   "file_extension": ".py",
   "mimetype": "text/x-python",
   "name": "python",
   "nbconvert_exporter": "python",
   "pygments_lexer": "ipython3",
   "version": "3.9.7"
  }
 },
 "nbformat": 4,
 "nbformat_minor": 5
}
