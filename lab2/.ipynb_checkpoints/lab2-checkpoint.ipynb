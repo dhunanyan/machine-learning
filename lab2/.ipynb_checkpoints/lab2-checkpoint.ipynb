{
 "cells": [
  {
   "cell_type": "code",
   "execution_count": 24,
   "id": "5d9987fb-8807-4490-b246-fe3331a4fd71",
   "metadata": {},
   "outputs": [],
   "source": [
    "import numpy as np\n",
    "import pandas as pd\n",
    "import matplotlib.pyplot as plt\n",
    "    \n",
    "from sklearn.model_selection import train_test_split\n",
    "\n",
    "from sklearn.model_selection import cross_val_score\n",
    "from sklearn.model_selection import cross_val_predict\n",
    "\n",
    "from sklearn.linear_model import SGDClassifier\n",
    "\n",
    "from sklearn.metrics import precision_score, recall_score, accuracy_score, confusion_matrix\n",
    "\n",
    "import time\n",
    "import pickle"
   ]
  },
  {
   "cell_type": "code",
   "execution_count": 2,
   "id": "2acd76cd-0bb3-4a5c-8ea1-849e86dcb8a0",
   "metadata": {},
   "outputs": [],
   "source": [
    "from sklearn.datasets import fetch_openml\n",
    "mnist = fetch_openml('mnist_784', version=1)"
   ]
  },
  {
   "cell_type": "code",
   "execution_count": 3,
   "id": "bff36c2f-141f-44b8-ad00-fb8dad91ac5b",
   "metadata": {},
   "outputs": [
    {
     "name": "stdout",
     "output_type": "stream",
     "text": [
      "[[0 0 0 0 0 0 0 0 0 0 0 0 0 0 0 0 0 0 0 0 0 0 0 0 0 0 0 0]\n",
      " [0 0 0 0 0 0 0 0 0 0 0 0 0 0 0 0 0 0 0 0 0 0 0 0 0 0 0 0]\n",
      " [0 0 0 0 0 0 0 0 0 0 0 0 0 0 0 0 0 0 0 0 0 0 0 0 0 0 0 0]\n",
      " [0 0 0 0 0 0 0 0 0 0 0 0 0 0 0 0 0 0 0 0 0 0 0 0 0 0 0 0]\n",
      " [0 0 0 0 0 0 0 0 0 0 0 0 0 0 0 0 0 0 0 0 0 0 0 0 0 0 0 0]\n",
      " [0 0 0 0 0 0 0 0 0 0 0 0 0 0 0 0 0 0 0 0 0 0 0 0 0 0 0 0]\n",
      " [0 0 0 0 0 0 0 0 0 0 0 0 0 0 0 0 0 0 0 0 0 0 0 0 0 0 0 0]\n",
      " [0 0 0 0 0 0 0 0 0 0 0 0 0 1 1 1 1 1 1 0 0 0 0 0 0 0 0 0]\n",
      " [0 0 0 0 0 0 0 0 0 0 0 1 1 1 1 1 1 1 1 0 0 0 0 0 0 0 0 0]\n",
      " [0 0 0 0 0 0 0 0 0 1 1 1 1 1 1 1 1 1 0 0 0 0 0 0 0 0 0 0]\n",
      " [0 0 0 0 0 0 0 1 1 1 1 1 1 1 0 1 1 1 0 0 0 0 0 0 0 0 0 0]\n",
      " [0 0 0 0 0 0 0 1 1 1 1 1 0 0 0 1 1 1 0 0 0 0 0 0 0 0 0 0]\n",
      " [0 0 0 0 0 0 0 0 0 0 0 0 0 0 0 1 1 1 0 0 0 0 0 0 0 0 0 0]\n",
      " [0 0 0 0 0 0 0 0 0 0 0 0 0 0 0 1 1 1 0 0 0 0 0 0 0 0 0 0]\n",
      " [0 0 0 0 0 0 0 0 0 0 0 0 0 0 0 1 1 1 0 0 0 0 0 0 0 0 0 0]\n",
      " [0 0 0 0 0 0 0 0 0 0 0 0 0 0 1 1 1 0 0 0 0 0 0 0 0 0 0 0]\n",
      " [0 0 0 0 0 0 0 0 0 0 0 0 0 0 1 1 1 0 0 0 0 0 0 0 0 0 0 0]\n",
      " [0 0 0 0 0 0 0 0 0 0 0 0 0 0 1 1 1 0 0 0 0 0 0 0 0 0 0 0]\n",
      " [0 0 0 0 0 0 0 0 0 0 0 0 0 0 1 1 0 0 0 0 0 0 0 0 0 0 0 0]\n",
      " [0 0 0 0 0 0 0 0 0 0 0 0 0 0 1 1 0 0 0 0 0 0 0 0 0 0 0 0]\n",
      " [0 0 0 0 0 0 0 0 0 0 0 0 0 1 1 1 0 0 0 0 0 0 0 0 0 0 0 0]\n",
      " [0 0 0 0 0 0 0 0 0 0 0 0 0 1 1 1 0 0 0 0 0 0 0 0 0 0 0 0]\n",
      " [0 0 0 0 0 0 0 0 0 0 0 0 0 1 1 1 0 0 0 0 0 0 0 0 0 0 0 0]\n",
      " [0 0 0 0 0 0 0 0 0 0 0 0 0 1 1 1 0 0 0 0 0 0 0 0 0 0 0 0]\n",
      " [0 0 0 0 0 0 0 0 0 0 0 0 0 1 1 0 0 0 0 0 0 0 0 0 0 0 0 0]\n",
      " [0 0 0 0 0 0 0 0 0 0 0 0 1 1 1 0 0 0 0 0 0 0 0 0 0 0 0 0]\n",
      " [0 0 0 0 0 0 0 0 0 0 0 0 1 1 1 0 0 0 0 0 0 0 0 0 0 0 0 0]\n",
      " [0 0 0 0 0 0 0 0 0 0 0 0 0 0 0 0 0 0 0 0 0 0 0 0 0 0 0 0]]\n"
     ]
    }
   ],
   "source": [
    "data = (np.array(mnist.data.loc[42]).reshape(28, 28) > 0).astype(int)\n",
    "print(data)"
   ]
  },
  {
   "cell_type": "code",
   "execution_count": 4,
   "id": "b6d5c32f-2323-45b7-88cf-aa0c02d6d3ae",
   "metadata": {},
   "outputs": [
    {
     "name": "stdout",
     "output_type": "stream",
     "text": [
      "34999    0\n",
      "56424    0\n",
      "56419    0\n",
      "16705    0\n",
      "56415    0\n",
      "        ..\n",
      "13687    9\n",
      "42651    9\n",
      "58914    9\n",
      "13678    9\n",
      "58529    9\n",
      "Name: class, Length: 70000, dtype: uint8\n",
      "       pixel1  pixel2  pixel3  pixel4  pixel5  pixel6  pixel7  pixel8  pixel9  \\\n",
      "34999     0.0     0.0     0.0     0.0     0.0     0.0     0.0     0.0     0.0   \n",
      "56424     0.0     0.0     0.0     0.0     0.0     0.0     0.0     0.0     0.0   \n",
      "56419     0.0     0.0     0.0     0.0     0.0     0.0     0.0     0.0     0.0   \n",
      "16705     0.0     0.0     0.0     0.0     0.0     0.0     0.0     0.0     0.0   \n",
      "56415     0.0     0.0     0.0     0.0     0.0     0.0     0.0     0.0     0.0   \n",
      "...       ...     ...     ...     ...     ...     ...     ...     ...     ...   \n",
      "13687     0.0     0.0     0.0     0.0     0.0     0.0     0.0     0.0     0.0   \n",
      "42651     0.0     0.0     0.0     0.0     0.0     0.0     0.0     0.0     0.0   \n",
      "58914     0.0     0.0     0.0     0.0     0.0     0.0     0.0     0.0     0.0   \n",
      "13678     0.0     0.0     0.0     0.0     0.0     0.0     0.0     0.0     0.0   \n",
      "58529     0.0     0.0     0.0     0.0     0.0     0.0     0.0     0.0     0.0   \n",
      "\n",
      "       pixel10  ...  pixel775  pixel776  pixel777  pixel778  pixel779  \\\n",
      "34999      0.0  ...       0.0       0.0       0.0       0.0       0.0   \n",
      "56424      0.0  ...       0.0       0.0       0.0       0.0       0.0   \n",
      "56419      0.0  ...       0.0       0.0       0.0       0.0       0.0   \n",
      "16705      0.0  ...       0.0       0.0       0.0       0.0       0.0   \n",
      "56415      0.0  ...       0.0       0.0       0.0       0.0       0.0   \n",
      "...        ...  ...       ...       ...       ...       ...       ...   \n",
      "13687      0.0  ...       0.0       0.0       0.0       0.0       0.0   \n",
      "42651      0.0  ...       0.0       0.0       0.0       0.0       0.0   \n",
      "58914      0.0  ...       0.0       0.0       0.0       0.0       0.0   \n",
      "13678      0.0  ...       0.0       0.0       0.0       0.0       0.0   \n",
      "58529      0.0  ...       0.0       0.0       0.0       0.0       0.0   \n",
      "\n",
      "       pixel780  pixel781  pixel782  pixel783  pixel784  \n",
      "34999       0.0       0.0       0.0       0.0       0.0  \n",
      "56424       0.0       0.0       0.0       0.0       0.0  \n",
      "56419       0.0       0.0       0.0       0.0       0.0  \n",
      "16705       0.0       0.0       0.0       0.0       0.0  \n",
      "56415       0.0       0.0       0.0       0.0       0.0  \n",
      "...         ...       ...       ...       ...       ...  \n",
      "13687       0.0       0.0       0.0       0.0       0.0  \n",
      "42651       0.0       0.0       0.0       0.0       0.0  \n",
      "58914       0.0       0.0       0.0       0.0       0.0  \n",
      "13678       0.0       0.0       0.0       0.0       0.0  \n",
      "58529       0.0       0.0       0.0       0.0       0.0  \n",
      "\n",
      "[70000 rows x 784 columns]\n"
     ]
    }
   ],
   "source": [
    "obj = {'X': mnist[\"data\"], 'y' : mnist[\"target\"].astype(np.uint8)}\n",
    "\n",
    "y = pd.Series(obj['y'])\n",
    "y_sorted = y.sort_values(ascending=True)\n",
    "print(y_sorted)\n",
    "\n",
    "X = obj['X']\n",
    "X_sorted = X.reindex(y_sorted.index)\n",
    "print(X_sorted)\n",
    "\n",
    "X_train, X_test = X_sorted[:56000], X_sorted[56000:]\n",
    "y_train, y_test = y_sorted[:56000], y_sorted[56000:]"
   ]
  },
  {
   "cell_type": "code",
   "execution_count": 5,
   "id": "38e707a2-b5ae-4926-9c31-fb34b0151015",
   "metadata": {},
   "outputs": [
    {
     "name": "stdout",
     "output_type": "stream",
     "text": [
      "34999    0\n",
      "56424    0\n",
      "56419    0\n",
      "16705    0\n",
      "56415    0\n",
      "        ..\n",
      "20694    7\n",
      "68173    7\n",
      "50920    7\n",
      "49301    7\n",
      "69650    7\n",
      "Name: class, Length: 56000, dtype: uint8\n"
     ]
    }
   ],
   "source": [
    "print(y_train)"
   ]
  },
  {
   "cell_type": "code",
   "execution_count": 6,
   "id": "464ce5c5-b34b-4464-8ba2-2b6e7cceca72",
   "metadata": {},
   "outputs": [
    {
     "name": "stdout",
     "output_type": "stream",
     "text": [
      "53213    7\n",
      "53313    7\n",
      "51502    7\n",
      "29282    7\n",
      "53333    7\n",
      "        ..\n",
      "13687    9\n",
      "42651    9\n",
      "58914    9\n",
      "13678    9\n",
      "58529    9\n",
      "Name: class, Length: 14000, dtype: uint8\n"
     ]
    }
   ],
   "source": [
    "print(y_test)"
   ]
  },
  {
   "cell_type": "code",
   "execution_count": 7,
   "id": "391edaba-625b-468f-8c83-924a61f0f5eb",
   "metadata": {},
   "outputs": [],
   "source": [
    "X_train, X_test, y_train, y_test = train_test_split(X, y, test_size=.2)"
   ]
  },
  {
   "cell_type": "code",
   "execution_count": 8,
   "id": "7580ee61-0620-446f-abfd-d9d35cc72b00",
   "metadata": {},
   "outputs": [
    {
     "name": "stdout",
     "output_type": "stream",
     "text": [
      "8536     8\n",
      "5904     5\n",
      "55434    5\n",
      "46756    8\n",
      "67024    3\n",
      "        ..\n",
      "56567    7\n",
      "64217    4\n",
      "33523    4\n",
      "44351    9\n",
      "39349    3\n",
      "Name: class, Length: 56000, dtype: uint8\n"
     ]
    }
   ],
   "source": [
    "print(y_train)"
   ]
  },
  {
   "cell_type": "code",
   "execution_count": 9,
   "id": "20402702-6350-43be-917d-fa97d2662d0e",
   "metadata": {},
   "outputs": [
    {
     "name": "stdout",
     "output_type": "stream",
     "text": [
      "43453    9\n",
      "41341    0\n",
      "23850    6\n",
      "66676    3\n",
      "47357    5\n",
      "        ..\n",
      "48747    9\n",
      "31434    5\n",
      "33494    5\n",
      "21839    1\n",
      "9354     1\n",
      "Name: class, Length: 14000, dtype: uint8\n"
     ]
    }
   ],
   "source": [
    "print(y_test)"
   ]
  },
  {
   "cell_type": "code",
   "execution_count": 10,
   "id": "7a0ef241-af58-4c93-a742-82b5995898d9",
   "metadata": {},
   "outputs": [
    {
     "name": "stdout",
     "output_type": "stream",
     "text": [
      "122.55311393737793\n"
     ]
    }
   ],
   "source": [
    "start = time.time()\n",
    "sgd_clf = SGDClassifier()\n",
    "sgd_clf.fit(X_train, y_train)\n",
    "print(time.time() - start)"
   ]
  },
  {
   "cell_type": "code",
   "execution_count": 11,
   "id": "00043868-6f56-411c-b8e0-65b6a20e9aa6",
   "metadata": {},
   "outputs": [
    {
     "name": "stdout",
     "output_type": "stream",
     "text": [
      "6903\n"
     ]
    }
   ],
   "source": [
    "print(len(np.where(mnist[\"target\"] == '0')[0])) "
   ]
  },
  {
   "cell_type": "code",
   "execution_count": 12,
   "id": "1ecbd10c-793a-4a38-b7e5-500f5e81c07b",
   "metadata": {},
   "outputs": [
    {
     "name": "stdout",
     "output_type": "stream",
     "text": [
      "8536     False\n",
      "5904     False\n",
      "55434    False\n",
      "46756    False\n",
      "67024    False\n",
      "         ...  \n",
      "56567    False\n",
      "64217    False\n",
      "33523    False\n",
      "44351    False\n",
      "39349    False\n",
      "Name: class, Length: 56000, dtype: bool\n",
      "[False  True]\n",
      "56000\n"
     ]
    }
   ],
   "source": [
    "y_train_0 = (y_train == 0)\n",
    "print(y_train_0)\n",
    "print(np.unique(y_train_0))\n",
    "print(len(y_train_0))"
   ]
  },
  {
   "cell_type": "code",
   "execution_count": 13,
   "id": "925a6f02-07eb-4ba7-9506-9a47efec4d15",
   "metadata": {},
   "outputs": [
    {
     "name": "stdout",
     "output_type": "stream",
     "text": [
      "0.988\n"
     ]
    }
   ],
   "source": [
    "y_train_pred = cross_val_predict(sgd_clf, X_train, y_train_0, cv=3, n_jobs=-1)\n",
    "y_acc_train = accuracy_score(y_train_0, y_train_pred)\n",
    "print(y_acc_train)"
   ]
  },
  {
   "cell_type": "code",
   "execution_count": 14,
   "id": "6bdddeba-04a5-4e19-a4e7-97173a8a5f43",
   "metadata": {},
   "outputs": [
    {
     "name": "stdout",
     "output_type": "stream",
     "text": [
      "43453    False\n",
      "41341     True\n",
      "23850    False\n",
      "66676    False\n",
      "47357    False\n",
      "         ...  \n",
      "48747    False\n",
      "31434    False\n",
      "33494    False\n",
      "21839    False\n",
      "9354     False\n",
      "Name: class, Length: 14000, dtype: bool\n",
      "[False  True]\n",
      "14000\n"
     ]
    }
   ],
   "source": [
    "y_test_0 = (y_test == 0)\n",
    "print(y_test_0)\n",
    "print(np.unique(y_test_0))\n",
    "print(len(y_test_0))"
   ]
  },
  {
   "cell_type": "code",
   "execution_count": 15,
   "id": "5f9dcc59-4a6a-4bed-9b2f-16638fc859cc",
   "metadata": {},
   "outputs": [
    {
     "name": "stdout",
     "output_type": "stream",
     "text": [
      "0.9853571428571428\n"
     ]
    }
   ],
   "source": [
    "y_test_pred = cross_val_predict(sgd_clf, X_test, y_test_0, cv=3, n_jobs=-1)\n",
    "y_acc_test = accuracy_score(y_test_0, y_test_pred)\n",
    "print(y_acc_test)"
   ]
  },
  {
   "cell_type": "code",
   "execution_count": 16,
   "id": "bb1c7004-91d0-42ef-86f3-2fdddd3e49d4",
   "metadata": {},
   "outputs": [],
   "source": [
    "y_acc = [y_acc_train, y_acc_test]"
   ]
  },
  {
   "cell_type": "code",
   "execution_count": 17,
   "id": "2c5398ca-d459-4ffa-86af-a2f22118c276",
   "metadata": {},
   "outputs": [
    {
     "name": "stdout",
     "output_type": "stream",
     "text": [
      "[0.988, 0.9853571428571428]\n"
     ]
    }
   ],
   "source": [
    "file_acc_name = \"sgd_acc.pkl\"\n",
    "\n",
    "open_file = open(file_acc_name, \"wb\")\n",
    "pickle.dump(y_acc, open_file)\n",
    "open_file.close()\n",
    "\n",
    "open_file = open(file_acc_name, \"rb\")\n",
    "loaded_list = pickle.load(open_file)\n",
    "open_file.close()\n",
    "\n",
    "print(loaded_list)"
   ]
  },
  {
   "cell_type": "code",
   "execution_count": 18,
   "id": "3585bb1d-4c2b-4eaf-a2af-469e3ab4bac1",
   "metadata": {},
   "outputs": [
    {
     "name": "stdout",
     "output_type": "stream",
     "text": [
      "9.713324308395386\n"
     ]
    }
   ],
   "source": [
    "start = time.time()\n",
    "val_score_train_0 = cross_val_score(sgd_clf, X_train, y_train_0, cv=3, scoring=\"accuracy\", n_jobs=-1)\n",
    "print(time.time() - start)"
   ]
  },
  {
   "cell_type": "code",
   "execution_count": 19,
   "id": "761090fd-668c-4659-bb79-f08e4c436b8e",
   "metadata": {},
   "outputs": [
    {
     "name": "stdout",
     "output_type": "stream",
     "text": [
      "[0.98842878 0.98891091 0.98542805]\n"
     ]
    }
   ],
   "source": [
    "file_cva_name = \"sgd_cva.pkl\"\n",
    "\n",
    "open_file = open(file_cva_name, \"wb\")\n",
    "pickle.dump(val_score_train_0, open_file)\n",
    "open_file.close()\n",
    "\n",
    "open_file = open(file_cva_name, \"rb\")\n",
    "loaded_list = pickle.load(open_file)\n",
    "open_file.close()\n",
    "\n",
    "print(loaded_list)"
   ]
  },
  {
   "cell_type": "code",
   "execution_count": 20,
   "id": "ee4886d7-ca29-4bf8-8c1e-c1e42a6b5c92",
   "metadata": {},
   "outputs": [
    {
     "name": "stdout",
     "output_type": "stream",
     "text": [
      "[5 0]\n"
     ]
    }
   ],
   "source": [
    "sgd_m_clf = SGDClassifier(n_jobs=-1)\n",
    "sgd_m_clf.fit(X_train, y_train)\n",
    "#zamiast print(sgd_m_clf.predict([mnist[\"data\"][1], mnist[\"data\"][2]]))\n",
    "print(sgd_m_clf.predict(mnist[\"data\"].head(2)))"
   ]
  },
  {
   "cell_type": "code",
   "execution_count": 21,
   "id": "dcc01415-ca2a-464f-9a1e-522b439fb209",
   "metadata": {},
   "outputs": [
    {
     "name": "stdout",
     "output_type": "stream",
     "text": [
      "[0.87957358 0.87625221 0.86563806]\n"
     ]
    }
   ],
   "source": [
    "print(cross_val_score(sgd_m_clf, X_train, y_train, cv=3, scoring=\"accuracy\", n_jobs=-1))\n",
    "y_train_pred = cross_val_predict(sgd_m_clf, X_train, y_train, cv=3, n_jobs=-1)"
   ]
  },
  {
   "cell_type": "code",
   "execution_count": 22,
   "id": "3556b600-4cba-4e6f-aaaa-d1f3f9cc2480",
   "metadata": {},
   "outputs": [
    {
     "name": "stdout",
     "output_type": "stream",
     "text": [
      "[[5267    0   17   58   10   46   44    5   54   16]\n",
      " [   3 5806   42  291    8   26   37   14   90    6]\n",
      " [  60   49 4533  368   74   39  160   79  185   35]\n",
      " [  22   17   69 5280    9  103   23   45   80   51]\n",
      " [  15   13   24   50 4863   27   79   22   54  315]\n",
      " [  58   16   21  621   92 3763  161   27  230   78]\n",
      " [  34    8   30   21   23   81 5277    3   36    3]\n",
      " [  17   16   52  136   68    9    5 5301   25  206]\n",
      " [  41   80   59  766   32  261   73   43 3934  128]\n",
      " [  26   23   17  311  149   59    4  223   58 4712]]\n"
     ]
    }
   ],
   "source": [
    "conf_mx = confusion_matrix(y_train, y_train_pred)\n",
    "print(conf_mx)"
   ]
  },
  {
   "cell_type": "code",
   "execution_count": 23,
   "id": "65c9614c-88d9-4b59-b85a-84b29c2a4c6d",
   "metadata": {},
   "outputs": [
    {
     "name": "stdout",
     "output_type": "stream",
     "text": [
      "[[5267    0   17   58   10   46   44    5   54   16]\n",
      " [   3 5806   42  291    8   26   37   14   90    6]\n",
      " [  60   49 4533  368   74   39  160   79  185   35]\n",
      " [  22   17   69 5280    9  103   23   45   80   51]\n",
      " [  15   13   24   50 4863   27   79   22   54  315]\n",
      " [  58   16   21  621   92 3763  161   27  230   78]\n",
      " [  34    8   30   21   23   81 5277    3   36    3]\n",
      " [  17   16   52  136   68    9    5 5301   25  206]\n",
      " [  41   80   59  766   32  261   73   43 3934  128]\n",
      " [  26   23   17  311  149   59    4  223   58 4712]]\n"
     ]
    }
   ],
   "source": [
    "file_conf_mx_name = \"sgd_cmx.pkl\"\n",
    "\n",
    "open_file = open(file_conf_mx_name, \"wb\")\n",
    "pickle.dump(conf_mx, open_file)\n",
    "open_file.close()\n",
    "\n",
    "open_file = open(file_conf_mx_name, \"rb\")\n",
    "loaded_list = pickle.load(open_file)\n",
    "open_file.close()\n",
    "\n",
    "print(loaded_list)"
   ]
  },
  {
   "cell_type": "code",
   "execution_count": 26,
   "id": "3d54a7de-75f8-43c6-a875-63510448bb5b",
   "metadata": {},
   "outputs": [
    {
     "name": "stdout",
     "output_type": "stream",
     "text": [
      "norm_conf_mx.png\n"
     ]
    },
    {
     "data": {
      "image/png": "[encoded data removed]",
      "text/plain": [
       "<Figure size 288x288 with 1 Axes>"
      ]
     },
     "metadata": {
      "needs_background": "light"
     },
     "output_type": "display_data"
    }
   ],
   "source": [
    "row_sums = conf_mx.sum(axis=1, keepdims=True)\n",
    "norm_conf_mx = conf_mx / row_sums\n",
    "np.fill_diagonal(norm_conf_mx, 0)\n",
    "plt.matshow(norm_conf_mx, cmap=plt.cm.gray)\n",
    "f = \"norm_conf_mx.png\"\n",
    "plt.savefig(f)\n",
    "print(f)"
   ]
  },
  {
   "cell_type": "code",
   "execution_count": null,
   "id": "fe6c65e4-fbfc-4d1e-a1ca-d219674df16e",
   "metadata": {},
   "outputs": [],
   "source": []
  }
 ],
 "metadata": {
  "kernelspec": {
   "display_name": "Python 3 (ipykernel)",
   "language": "python",
   "name": "python3"
  },
  "language_info": {
   "codemirror_mode": {
    "name": "ipython",
    "version": 3
   },
   "file_extension": ".py",
   "mimetype": "text/x-python",
   "name": "python",
   "nbconvert_exporter": "python",
   "pygments_lexer": "ipython3",
   "version": "3.9.7"
  }
 },
 "nbformat": 4,
 "nbformat_minor": 5
}
