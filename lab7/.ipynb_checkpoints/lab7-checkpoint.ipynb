{
 "cells": [
  {
   "cell_type": "code",
   "execution_count": 1,
   "id": "7c7c8fda-d94a-481f-bf87-57e14c433920",
   "metadata": {},
   "outputs": [],
   "source": [
    "import numpy as np\n",
    "import pandas as pd\n",
    "import sys\n",
    "\n",
    "import matplotlib.pyplot as plt\n",
    "from sklearn.datasets import fetch_openml\n",
    "\n",
    "from sklearn.cluster import KMeans\n",
    "from sklearn.cluster import DBSCAN\n",
    "\n",
    "from sklearn.metrics import silhouette_score\n",
    "from sklearn.metrics import confusion_matrix\n",
    "\n",
    "import pickle"
   ]
  },
  {
   "cell_type": "code",
   "execution_count": 2,
   "id": "7e6a9f47-13cc-4d44-91d7-93c6c840ed87",
   "metadata": {},
   "outputs": [],
   "source": [
    "mnist = fetch_openml('mnist_784', version=1, as_frame=False)\n",
    "mnist.target = mnist.target.astype(np.uint8)\n",
    "X = mnist[\"data\"]\n",
    "y = mnist[\"target\"]"
   ]
  },
  {
   "cell_type": "code",
   "execution_count": 3,
   "id": "1ace05b4-4c15-4dc0-b446-184bf896327d",
   "metadata": {},
   "outputs": [
    {
     "name": "stdout",
     "output_type": "stream",
     "text": [
      "\n",
      "---------DATA(X)--------\n",
      "[[0. 0. 0. ... 0. 0. 0.]\n",
      " [0. 0. 0. ... 0. 0. 0.]\n",
      " [0. 0. 0. ... 0. 0. 0.]\n",
      " ...\n",
      " [0. 0. 0. ... 0. 0. 0.]\n",
      " [0. 0. 0. ... 0. 0. 0.]\n",
      " [0. 0. 0. ... 0. 0. 0.]]\n"
     ]
    }
   ],
   "source": [
    "print(\"\\n---------DATA(X)--------\")\n",
    "print(X)"
   ]
  },
  {
   "cell_type": "code",
   "execution_count": 4,
   "id": "5b9e7e9a-094b-4f25-b4f1-731229708e9d",
   "metadata": {},
   "outputs": [
    {
     "name": "stdout",
     "output_type": "stream",
     "text": [
      "\n",
      "-----DATA(y)-----\n",
      "[5 0 4 ... 4 5 6]\n"
     ]
    }
   ],
   "source": [
    "print(\"\\n-----DATA(y)-----\")\n",
    "print(y)"
   ]
  },
  {
   "cell_type": "code",
   "execution_count": null,
   "id": "7c94539b-6d80-499a-b922-8bb93936d531",
   "metadata": {},
   "outputs": [
    {
     "name": "stdout",
     "output_type": "stream",
     "text": [
      "\n",
      "\\\\\\\\\\\\\\\\\\\\\\\\\\K=8//////////////\n",
      "------LABELS-----\n",
      "[4 3 0 ... 6 4 7]\n",
      "\n",
      "-----PREDICT-----\n",
      "[4 3 0 ... 6 4 7]\n",
      "\n",
      "----CLUSTER_CENTERS----\n",
      "[[0. 0. 0. ... 0. 0. 0.]\n",
      " [0. 0. 0. ... 0. 0. 0.]\n",
      " [0. 0. 0. ... 0. 0. 0.]\n",
      " ...\n",
      " [0. 0. 0. ... 0. 0. 0.]\n",
      " [0. 0. 0. ... 0. 0. 0.]\n",
      " [0. 0. 0. ... 0. 0. 0.]]\n",
      "\n",
      "---SILHOUETTE---\n",
      "0.07341874237870631\n",
      "\n",
      "\\\\\\\\\\\\\\\\\\\\\\\\\\K=9//////////////\n"
     ]
    }
   ],
   "source": [
    "KMeans_lsit=[]\n",
    "silhouette_list = []\n",
    "\n",
    "for k in range (8,13):\n",
    "    print(f\"\\n\\\\\\\\\\\\\\\\\\\\\\\\\\\\\\\\\\\\\\\\\\\\\\\\\\\\KMEANS_K={k}//////////////\")\n",
    "    kmeans = KMeans(n_clusters=k)\n",
    "    y_pred = kmeans.fit_predict(X)\n",
    "    silhouette_list.append(silhouette_score(X, kmeans.labels_))\n",
    "    KMeans_lsit.append(y_pred)\n",
    "    print(\"------LABELS-----\")\n",
    "    print(kmeans.labels_)\n",
    "    print(\"\\n-----PREDICT-----\")\n",
    "    print(y_pred)\n",
    "    print(\"\\n----CLUSTER_CENTERS----\")\n",
    "    print(kmeans.cluster_centers_)\n",
    "    print(\"\\n---SILHOUETTE---\")\n",
    "    print(silhouette_score(X, kmeans.labels_))"
   ]
  },
  {
   "cell_type": "code",
   "execution_count": null,
   "id": "9b4663d4-c8bb-4d76-a7b6-e7270d0393ca",
   "metadata": {},
   "outputs": [],
   "source": [
    "file_kmeans_sil_name = \"kmeans_sil.pkl\"\n",
    "\n",
    "open_file = open(file_kmeans_sil_name, \"wb\")\n",
    "pickle.dump(silhouette_list, open_file)\n",
    "open_file.close()\n",
    "\n",
    "open_file = open(file_kmeans_sil_name, \"rb\")\n",
    "loaded_list = pickle.load(open_file)\n",
    "open_file.close()\n",
    "\n",
    "print('\\n--------------------------------------------------EXERCICE 2---------------------------------------------')\n",
    "print(loaded_list)"
   ]
  },
  {
   "cell_type": "code",
   "execution_count": null,
   "id": "bfbcf354-e8e1-4157-bc6d-a9ff6593dda8",
   "metadata": {},
   "outputs": [],
   "source": [
    "KMeans_10_conf_m = confusion_matrix(y, KMeans_lsit[2])\n",
    "KMeans_10_conf_m_max_index_list = []\n",
    "print(\"\\n--------------CONFUSION_MATRIX_K=10---------------------INDEX----MAX\")\n",
    "for i, arr in enumerate(KMeans_10_conf_m):\n",
    "    KMeans_10_conf_m_max_index_list.append(np.argmax(arr))\n",
    "    print(arr,\"     \", i,\"     \", np.argmax(arr))\n",
    "\n",
    "KMeans_10_conf_m_max_index_list_sorted = np.sort(list(dict.fromkeys(KMeans_10_conf_m_max_index_list)))"
   ]
  },
  {
   "cell_type": "code",
   "execution_count": null,
   "id": "ba6c6d9d-0add-4875-af8c-a2753189a3f7",
   "metadata": {},
   "outputs": [],
   "source": [
    "file_kmeans_argmax_name = \"kmeans_argmax.pkl\"\n",
    "\n",
    "open_file = open(file_kmeans_argmax_name, \"wb\")\n",
    "pickle.dump(KMeans_10_conf_m_max_index_list_sorted, open_file)\n",
    "open_file.close()\n",
    "\n",
    "open_file = open(file_kmeans_argmax_name, \"rb\")\n",
    "loaded_list = pickle.load(open_file)\n",
    "open_file.close()\n",
    "\n",
    "print('\\n---EXERCICE 5----')\n",
    "print(loaded_list)"
   ]
  },
  {
   "cell_type": "code",
   "execution_count": null,
   "id": "722db6ff-fbec-44f0-b3db-5644d4956a6f",
   "metadata": {},
   "outputs": [],
   "source": [
    "min_dis_list = []\n",
    "\n",
    "for i, arr in enumerate(X[:300]):\n",
    "    for j, arr_to_compare in enumerate(X):\n",
    "        if(j>i):\n",
    "            dis = np.linalg.norm(X[i] - X[j])\n",
    "            min_dis_list.append(dis)"
   ]
  },
  {
   "cell_type": "code",
   "execution_count": null,
   "id": "67211259-4cc0-47f0-977a-e019d4c2663c",
   "metadata": {},
   "outputs": [],
   "source": [
    "min_dis_list_sorted = np.sort(min_dis_list)[:10]\n",
    "file_dist_name = \"dist.pkl\"\n",
    "\n",
    "open_file = open(file_dist_name, \"wb\")\n",
    "pickle.dump(min_dis_list_sorted, open_file)\n",
    "open_file.close()\n",
    "\n",
    "open_file = open(file_dist_name, \"rb\")\n",
    "loaded_list = pickle.load(open_file)\n",
    "open_file.close()\n",
    "\n",
    "print('\\n-------------------------EXERCICE 6-------------------------------')\n",
    "print(loaded_list)"
   ]
  },
  {
   "cell_type": "code",
   "execution_count": null,
   "id": "5d79bc69-d901-4cd2-8de1-fa43330be570",
   "metadata": {},
   "outputs": [],
   "source": [
    "s = (min_dis_list_sorted[0] + min_dis_list_sorted[1] + min_dis_list_sorted[2]) / 3\n",
    "eps_list = []\n",
    "   \n",
    "index = s\n",
    "while(index <= s + 0.1 * s):\n",
    "    eps_list.append(index)\n",
    "    index = index + 0.04 * s\n",
    "    \n",
    "print('\\n-----------------------EPSILON LIST------------------------')\n",
    "print(eps_list)"
   ]
  },
  {
   "cell_type": "code",
   "execution_count": null,
   "id": "944e38e3-edbc-4a5c-a4fc-961c4760fe50",
   "metadata": {},
   "outputs": [],
   "source": [
    "dbscan_labels_list = []\n",
    "for eps in eps_list:\n",
    "    dbscan = DBSCAN(eps=eps)\n",
    "    dbscan.fit(X)\n",
    "    print(f\"\\n----DBSCAN_EPS={eps}----\")\n",
    "    print(dbscan.labels_)\n",
    "    dbscan_labels_list.append(np.sort(list(dict.fromkeys(dbscan.labels_))))"
   ]
  },
  {
   "cell_type": "code",
   "execution_count": null,
   "id": "54159872-c885-485e-b5a3-19863520982a",
   "metadata": {},
   "outputs": [],
   "source": [
    "dbscan_labels_list_len = []\n",
    "for i in dbscan_labels_list:\n",
    "    dbscan_labels_list_len.append(len(i))\n",
    "\n",
    "file_dbscan_len_name = \"dbscan_len.pkl\"\n",
    "\n",
    "open_file = open(file_dbscan_len_name, \"wb\")\n",
    "pickle.dump(dbscan_labels_list_len, open_file)\n",
    "open_file.close()\n",
    "\n",
    "open_file = open(file_dbscan_len_name, \"rb\")\n",
    "loaded_list = pickle.load(open_file)\n",
    "open_file.close()\n",
    "\n",
    "print('\\n-------------------------EXERCICE 8-------------------------------')\n",
    "print(loaded_list)"
   ]
  },
  {
   "cell_type": "code",
   "execution_count": null,
   "id": "c80954f7-6b9a-4b1a-ae56-83a0459604fb",
   "metadata": {},
   "outputs": [],
   "source": [
    "print('\\n---------------------------------------------CHECKING FILES---------------------------------------------')\n",
    "print('\\n---------------------------------------------kmeans_sil.pkl---------------------------------------------')\n",
    "print(pd.read_pickle(\"kmeans_sil.pkl\"))\n",
    "print('\\n---------------------------------------------kmeans_argmax.pkl--------------------------------------------')\n",
    "print(pd.read_pickle(\"kmeans_argmax.pkl\"))\n",
    "print('\\n-------------------------------------------------dist.pkl-------------------------------------------------')\n",
    "print(pd.read_pickle(\"dist.pkl\"))\n",
    "print('\\n----------------------------------------------dbscan_len.pkl----------------------------------------------')\n",
    "print(pd.read_pickle(\"dbscan_len.pkl\"))"
   ]
  },
  {
   "cell_type": "code",
   "execution_count": null,
   "id": "269737d7-05dd-471a-8460-649616ac0541",
   "metadata": {},
   "outputs": [],
   "source": []
  }
 ],
 "metadata": {
  "kernelspec": {
   "display_name": "Python 3 (ipykernel)",
   "language": "python",
   "name": "python3"
  },
  "language_info": {
   "codemirror_mode": {
    "name": "ipython",
    "version": 3
   },
   "file_extension": ".py",
   "mimetype": "text/x-python",
   "name": "python",
   "nbconvert_exporter": "python",
   "pygments_lexer": "ipython3",
   "version": "3.9.7"
  }
 },
 "nbformat": 4,
 "nbformat_minor": 5
}
