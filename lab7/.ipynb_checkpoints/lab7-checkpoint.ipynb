{
 "cells": [
  {
   "cell_type": "code",
   "execution_count": 1,
   "id": "7c7c8fda-d94a-481f-bf87-57e14c433920",
   "metadata": {},
   "outputs": [],
   "source": [
    "import numpy as np\n",
    "import pandas as pd\n",
    "import sys\n",
    "\n",
    "import matplotlib.pyplot as plt\n",
    "from sklearn.datasets import fetch_openml\n",
    "\n",
    "from sklearn.cluster import KMeans\n",
    "from sklearn.cluster import DBSCAN\n",
    "\n",
    "from sklearn.metrics import silhouette_score\n",
    "from sklearn.metrics import confusion_matrix\n",
    "\n",
    "import pickle"
   ]
  },
  {
   "cell_type": "code",
   "execution_count": 2,
   "id": "7e6a9f47-13cc-4d44-91d7-93c6c840ed87",
   "metadata": {},
   "outputs": [],
   "source": [
    "mnist = fetch_openml('mnist_784', version=1, as_frame=False)\n",
    "mnist.target = mnist.target.astype(np.uint8)\n",
    "X = mnist[\"data\"]\n",
    "y = mnist[\"target\"]"
   ]
  },
  {
   "cell_type": "code",
   "execution_count": 3,
   "id": "1ace05b4-4c15-4dc0-b446-184bf896327d",
   "metadata": {},
   "outputs": [
    {
     "name": "stdout",
     "output_type": "stream",
     "text": [
      "\n",
      "---------DATA(X)--------\n",
      "[[0. 0. 0. ... 0. 0. 0.]\n",
      " [0. 0. 0. ... 0. 0. 0.]\n",
      " [0. 0. 0. ... 0. 0. 0.]\n",
      " ...\n",
      " [0. 0. 0. ... 0. 0. 0.]\n",
      " [0. 0. 0. ... 0. 0. 0.]\n",
      " [0. 0. 0. ... 0. 0. 0.]]\n"
     ]
    }
   ],
   "source": [
    "print(\"\\n---------DATA(X)--------\")\n",
    "print(X)"
   ]
  },
  {
   "cell_type": "code",
   "execution_count": 4,
   "id": "5b9e7e9a-094b-4f25-b4f1-731229708e9d",
   "metadata": {},
   "outputs": [
    {
     "name": "stdout",
     "output_type": "stream",
     "text": [
      "\n",
      "-----DATA(y)-----\n",
      "[5 0 4 ... 4 5 6]\n"
     ]
    }
   ],
   "source": [
    "print(\"\\n-----DATA(y)-----\")\n",
    "print(y)"
   ]
  },
  {
   "cell_type": "code",
   "execution_count": 5,
   "id": "7c94539b-6d80-499a-b922-8bb93936d531",
   "metadata": {},
   "outputs": [
    {
     "name": "stdout",
     "output_type": "stream",
     "text": [
      "\n",
      "\\\\\\\\\\\\\\\\\\\\\\\\\\K=8//////////////\n",
      "------LABELS-----\n",
      "[1 2 3 ... 6 1 7]\n",
      "\n",
      "-----PREDICT-----\n",
      "[1 2 3 ... 6 1 7]\n",
      "\n",
      "----CLUSTER_CENTERS----\n",
      "[[0. 0. 0. ... 0. 0. 0.]\n",
      " [0. 0. 0. ... 0. 0. 0.]\n",
      " [0. 0. 0. ... 0. 0. 0.]\n",
      " ...\n",
      " [0. 0. 0. ... 0. 0. 0.]\n",
      " [0. 0. 0. ... 0. 0. 0.]\n",
      " [0. 0. 0. ... 0. 0. 0.]]\n",
      "\n",
      "---SILHOUETTE---\n",
      "0.0733936212947435\n",
      "\n",
      "\\\\\\\\\\\\\\\\\\\\\\\\\\K=9//////////////\n",
      "------LABELS-----\n",
      "[4 0 1 ... 6 4 8]\n",
      "\n",
      "-----PREDICT-----\n",
      "[4 0 1 ... 6 4 8]\n",
      "\n",
      "----CLUSTER_CENTERS----\n",
      "[[0. 0. 0. ... 0. 0. 0.]\n",
      " [0. 0. 0. ... 0. 0. 0.]\n",
      " [0. 0. 0. ... 0. 0. 0.]\n",
      " ...\n",
      " [0. 0. 0. ... 0. 0. 0.]\n",
      " [0. 0. 0. ... 0. 0. 0.]\n",
      " [0. 0. 0. ... 0. 0. 0.]]\n",
      "\n",
      "---SILHOUETTE---\n",
      "0.05676790015204366\n",
      "\n",
      "\\\\\\\\\\\\\\\\\\\\\\\\\\K=10//////////////\n",
      "------LABELS-----\n",
      "[7 8 3 ... 9 4 2]\n",
      "\n",
      "-----PREDICT-----\n",
      "[7 8 3 ... 9 4 2]\n",
      "\n",
      "----CLUSTER_CENTERS----\n",
      "[[0. 0. 0. ... 0. 0. 0.]\n",
      " [0. 0. 0. ... 0. 0. 0.]\n",
      " [0. 0. 0. ... 0. 0. 0.]\n",
      " ...\n",
      " [0. 0. 0. ... 0. 0. 0.]\n",
      " [0. 0. 0. ... 0. 0. 0.]\n",
      " [0. 0. 0. ... 0. 0. 0.]]\n",
      "\n",
      "---SILHOUETTE---\n",
      "0.05872938650053095\n",
      "\n",
      "\\\\\\\\\\\\\\\\\\\\\\\\\\K=11//////////////\n",
      "------LABELS-----\n",
      "[7 8 5 ... 1 1 9]\n",
      "\n",
      "-----PREDICT-----\n",
      "[7 8 5 ... 1 1 9]\n",
      "\n",
      "----CLUSTER_CENTERS----\n",
      "[[0. 0. 0. ... 0. 0. 0.]\n",
      " [0. 0. 0. ... 0. 0. 0.]\n",
      " [0. 0. 0. ... 0. 0. 0.]\n",
      " ...\n",
      " [0. 0. 0. ... 0. 0. 0.]\n",
      " [0. 0. 0. ... 0. 0. 0.]\n",
      " [0. 0. 0. ... 0. 0. 0.]]\n",
      "\n",
      "---SILHOUETTE---\n",
      "0.05756615706981847\n",
      "\n",
      "\\\\\\\\\\\\\\\\\\\\\\\\\\K=12//////////////\n",
      "------LABELS-----\n",
      "[ 8  2  7 ...  5  9 11]\n",
      "\n",
      "-----PREDICT-----\n",
      "[ 8  2  7 ...  5  9 11]\n",
      "\n",
      "----CLUSTER_CENTERS----\n",
      "[[0. 0. 0. ... 0. 0. 0.]\n",
      " [0. 0. 0. ... 0. 0. 0.]\n",
      " [0. 0. 0. ... 0. 0. 0.]\n",
      " ...\n",
      " [0. 0. 0. ... 0. 0. 0.]\n",
      " [0. 0. 0. ... 0. 0. 0.]\n",
      " [0. 0. 0. ... 0. 0. 0.]]\n",
      "\n",
      "---SILHOUETTE---\n",
      "0.05816377180735471\n"
     ]
    }
   ],
   "source": [
    "KMeans_lsit=[]\n",
    "silhouette_list = []\n",
    "\n",
    "for k in range (8,13):\n",
    "    print(f\"\\n\\\\\\\\\\\\\\\\\\\\\\\\\\\\\\\\\\\\\\\\\\\\\\\\\\\\K={k}//////////////\")\n",
    "    kmeans = KMeans(n_clusters=k)\n",
    "    y_pred = kmeans.fit_predict(X)\n",
    "    silhouette_list.append(silhouette_score(X, kmeans.labels_))\n",
    "    KMeans_lsit.append(y_pred)\n",
    "    print(\"------LABELS-----\")\n",
    "    print(kmeans.labels_)\n",
    "    print(\"\\n-----PREDICT-----\")\n",
    "    print(y_pred)\n",
    "    print(\"\\n----CLUSTER_CENTERS----\")\n",
    "    print(kmeans.cluster_centers_)\n",
    "    print(\"\\n---SILHOUETTE---\")\n",
    "    print(silhouette_score(X, kmeans.labels_))"
   ]
  },
  {
   "cell_type": "code",
   "execution_count": 6,
   "id": "9b4663d4-c8bb-4d76-a7b6-e7270d0393ca",
   "metadata": {},
   "outputs": [
    {
     "name": "stdout",
     "output_type": "stream",
     "text": [
      "\n",
      "--------------------------------------------------EXERCICE 2---------------------------------------------\n",
      "[0.0733936212947435, 0.05676790015204366, 0.05872938650053095, 0.05756615706981847, 0.05816377180735471]\n"
     ]
    }
   ],
   "source": [
    "file_kmeans_sil_name = \"kmeans_sil.pkl\"\n",
    "\n",
    "open_file = open(file_kmeans_sil_name, \"wb\")\n",
    "pickle.dump(silhouette_list, open_file)\n",
    "open_file.close()\n",
    "\n",
    "open_file = open(file_kmeans_sil_name, \"rb\")\n",
    "loaded_list = pickle.load(open_file)\n",
    "open_file.close()\n",
    "\n",
    "print('\\n--------------------------------------------------EXERCICE 2---------------------------------------------')\n",
    "print(loaded_list)"
   ]
  },
  {
   "cell_type": "code",
   "execution_count": 7,
   "id": "bfbcf354-e8e1-4157-bc6d-a9ff6593dda8",
   "metadata": {},
   "outputs": [
    {
     "name": "stdout",
     "output_type": "stream",
     "text": [
      "\n",
      "--------------CONFUSION_MATRIX_K=10---------------------INDEX----MAX\n",
      "[   9    2  173   43 1260    4  290   74 5041    7]       0       8\n",
      "[  10 4293    7    6    7 3527    8    9    0   10]       1       1\n",
      "[4864  428  151  215  239  433  320  206   56   78]       2       0\n",
      "[ 206  458   33  186  508   53 4598 1032   21   46]       3       6\n",
      "[  30  182  170 3735  256  231    0   19    9 2192]       4       3\n",
      "[   7  166   70  425 1847  266 2126 1132   60  214]       5       6\n",
      "[  56  205 4441   68 1926   44   39   17   76    4]       6       2\n",
      "[  53  377    4 2086   12  310    5   20   21 4405]       7       9\n",
      "[  52  336   54  208  340  315 1177 4120   37  186]       8       7\n",
      "[  20  267   16 3456   30   92   86   88   50 2853]       9       3\n"
     ]
    }
   ],
   "source": [
    "KMeans_10_conf_m = confusion_matrix(y, KMeans_lsit[2])\n",
    "KMeans_10_conf_m_max_index_list = []\n",
    "print(\"\\n--------------CONFUSION_MATRIX_K=10---------------------INDEX----MAX\")\n",
    "for i, arr in enumerate(KMeans_10_conf_m):\n",
    "    KMeans_10_conf_m_max_index_list.append(np.argmax(arr))\n",
    "    print(arr,\"     \", i,\"     \", np.argmax(arr))\n",
    "\n",
    "KMeans_10_conf_m_max_index_list_sorted = np.sort(list(dict.fromkeys(KMeans_10_conf_m_max_index_list)))"
   ]
  },
  {
   "cell_type": "code",
   "execution_count": 8,
   "id": "ba6c6d9d-0add-4875-af8c-a2753189a3f7",
   "metadata": {},
   "outputs": [
    {
     "name": "stdout",
     "output_type": "stream",
     "text": [
      "\n",
      "-----EXERCICE 5----\n",
      "[0 1 2 3 6 7 8 9]\n"
     ]
    }
   ],
   "source": [
    "file_kmeans_argmax_name = \"kmeans_argmax.pkl\"\n",
    "\n",
    "open_file = open(file_kmeans_argmax_name, \"wb\")\n",
    "pickle.dump(KMeans_10_conf_m_max_index_list_sorted, open_file)\n",
    "open_file.close()\n",
    "\n",
    "open_file = open(file_kmeans_argmax_name, \"rb\")\n",
    "loaded_list = pickle.load(open_file)\n",
    "open_file.close()\n",
    "\n",
    "print('\\n---EXERCICE 5----')\n",
    "print(loaded_list)"
   ]
  },
  {
   "cell_type": "code",
   "execution_count": 10,
   "id": "722db6ff-fbec-44f0-b3db-5644d4956a6f",
   "metadata": {},
   "outputs": [],
   "source": [
    "min_dis_list = []\n",
    "\n",
    "for i, arr in enumerate(X[:300]):\n",
    "    for j, arr_to_compare in enumerate(X):\n",
    "        if(j>i):\n",
    "            dis = np.linalg.norm(X[i] - X[j])\n",
    "            min_dis_list.append(dis)"
   ]
  },
  {
   "cell_type": "code",
   "execution_count": 20,
   "id": "67211259-4cc0-47f0-977a-e019d4c2663c",
   "metadata": {},
   "outputs": [
    {
     "name": "stdout",
     "output_type": "stream",
     "text": [
      "\n",
      "-------------------------EXERCICE 6-------------------------------\n",
      "[279.26152617 304.3764117  317.5893575  328.76587414 333.45464459\n",
      " 352.89800226 355.17742045 358.0740147  359.64287842 360.42474943]\n"
     ]
    }
   ],
   "source": [
    "min_dis_list_sorted = np.sort(min_dis_list)[:10]\n",
    "file_dist_name = \"dist.pkl\"\n",
    "\n",
    "open_file = open(file_dist_name, \"wb\")\n",
    "pickle.dump(min_dis_list_sorted, open_file)\n",
    "open_file.close()\n",
    "\n",
    "open_file = open(file_dist_name, \"rb\")\n",
    "loaded_list = pickle.load(open_file)\n",
    "open_file.close()\n",
    "\n",
    "print('\\n-------------------------EXERCICE 6-------------------------------')\n",
    "print(loaded_list)"
   ]
  },
  {
   "cell_type": "code",
   "execution_count": 21,
   "id": "5d79bc69-d901-4cd2-8de1-fa43330be570",
   "metadata": {},
   "outputs": [
    {
     "name": "stdout",
     "output_type": "stream",
     "text": [
      "\n",
      "--------------------EPSILON LIST---------------------\n",
      "[300.40909845916684, 312.4254623975335, 324.4418263359002]\n"
     ]
    }
   ],
   "source": [
    "s = (min_dis_list_sorted[0] + min_dis_list_sorted[1] + min_dis_list_sorted[2]) / 3\n",
    "eps_list = []\n",
    "   \n",
    "index = s\n",
    "while(index <= s + 0.1 * s):\n",
    "    eps_list.append(index)\n",
    "    index = index + 0.04 * s\n",
    "    \n",
    "print('\\n-----------------------EPSILON LIST------------------------')\n",
    "print(eps_list)"
   ]
  },
  {
   "cell_type": "code",
   "execution_count": 24,
   "id": "944e38e3-edbc-4a5c-a4fc-961c4760fe50",
   "metadata": {},
   "outputs": [
    {
     "name": "stdout",
     "output_type": "stream",
     "text": [
      "\n",
      "----DBSCAN_EPS=300.40909845916684----\n",
      "[-1 -1 -1 ... -1 -1 -1]\n",
      "\n",
      "----DBSCAN_EPS=312.4254623975335----\n",
      "[-1 -1 -1 ... -1 -1 -1]\n",
      "\n",
      "----DBSCAN_EPS=324.4418263359002----\n",
      "[-1 -1 -1 ... -1 -1 -1]\n"
     ]
    }
   ],
   "source": [
    "dbscan_labels_list = []\n",
    "for eps in eps_list:\n",
    "    dbscan = DBSCAN(eps=eps)\n",
    "    dbscan.fit(X)\n",
    "    print(f\"\\n----DBSCAN_EPS={eps}----\")\n",
    "    print(dbscan.labels_)\n",
    "    dbscan_labels_list.append(np.sort(list(dict.fromkeys(dbscan.labels_))))"
   ]
  },
  {
   "cell_type": "code",
   "execution_count": 27,
   "id": "54159872-c885-485e-b5a3-19863520982a",
   "metadata": {},
   "outputs": [
    {
     "name": "stdout",
     "output_type": "stream",
     "text": [
      "\n",
      "-------------------------EXERCICE 8-------------------------------\n",
      "[4, 7, 22]\n"
     ]
    }
   ],
   "source": [
    "dbscan_labels_list_len = []\n",
    "for i in dbscan_labels_list:\n",
    "    dbscan_labels_list_len.append(len(i))\n",
    "\n",
    "file_dbscan_len_name = \"dbscan_len.pkl\"\n",
    "\n",
    "open_file = open(file_dbscan_len_name, \"wb\")\n",
    "pickle.dump(dbscan_labels_list_len, open_file)\n",
    "open_file.close()\n",
    "\n",
    "open_file = open(file_dbscan_len_name, \"rb\")\n",
    "loaded_list = pickle.load(open_file)\n",
    "open_file.close()\n",
    "\n",
    "print('\\n-------------------------EXERCICE 8-------------------------------')\n",
    "print(loaded_list)"
   ]
  },
  {
   "cell_type": "code",
   "execution_count": 48,
   "id": "c80954f7-6b9a-4b1a-ae56-83a0459604fb",
   "metadata": {},
   "outputs": [
    {
     "name": "stdout",
     "output_type": "stream",
     "text": [
      "\n",
      "---------------------------------------------CHECKING FILES---------------------------------------------\n",
      "\n",
      "---------------------------------------------kmeans_sil.pkl---------------------------------------------\n",
      "[0.0733936212947435, 0.05676790015204366, 0.05872938650053095, 0.05756615706981847, 0.05816377180735471]\n",
      "\n",
      "---------------------------------------------kmeans_argmax.pkl--------------------------------------------\n",
      "[0 1 2 3 6 7 8 9]\n",
      "\n",
      "-------------------------------------------------dist.pkl-------------------------------------------------\n",
      "[279.26152617 304.3764117  317.5893575  328.76587414 333.45464459\n",
      " 352.89800226 355.17742045 358.0740147  359.64287842 360.42474943]\n",
      "\n",
      "----------------------------------------------dbscan_len.pkl----------------------------------------------\n",
      "[4, 7, 22]\n"
     ]
    }
   ],
   "source": [
    "print('\\n---------------------------------------------CHECKING FILES---------------------------------------------')\n",
    "print('\\n---------------------------------------------kmeans_sil.pkl---------------------------------------------')\n",
    "print(pd.read_pickle(\"kmeans_sil.pkl\"))\n",
    "print('\\n---------------------------------------------kmeans_argmax.pkl--------------------------------------------')\n",
    "print(pd.read_pickle(\"kmeans_argmax.pkl\"))\n",
    "print('\\n-------------------------------------------------dist.pkl-------------------------------------------------')\n",
    "print(pd.read_pickle(\"dist.pkl\"))\n",
    "print('\\n----------------------------------------------dbscan_len.pkl----------------------------------------------')\n",
    "print(pd.read_pickle(\"dbscan_len.pkl\"))"
   ]
  },
  {
   "cell_type": "code",
   "execution_count": null,
   "id": "269737d7-05dd-471a-8460-649616ac0541",
   "metadata": {},
   "outputs": [],
   "source": []
  }
 ],
 "metadata": {
  "kernelspec": {
   "display_name": "Python 3 (ipykernel)",
   "language": "python",
   "name": "python3"
  },
  "language_info": {
   "codemirror_mode": {
    "name": "ipython",
    "version": 3
   },
   "file_extension": ".py",
   "mimetype": "text/x-python",
   "name": "python",
   "nbconvert_exporter": "python",
   "pygments_lexer": "ipython3",
   "version": "3.9.7"
  }
 },
 "nbformat": 4,
 "nbformat_minor": 5
}
