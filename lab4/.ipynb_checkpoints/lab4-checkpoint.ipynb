{
 "cells": [
  {
   "cell_type": "code",
   "execution_count": 1,
   "id": "7c689db0-85fe-491a-8a7e-3da40d479dc5",
   "metadata": {},
   "outputs": [],
   "source": [
    "from sklearn import datasets\n",
    "import numpy as np\n",
    "import pandas as pd\n",
    "\n",
    "from sklearn import datasets\n",
    "from sklearn.model_selection import train_test_split\n",
    "from sklearn.svm import LinearSVC\n",
    "from sklearn.pipeline import Pipeline\n",
    "from sklearn.preprocessing import StandardScaler\n",
    "from sklearn.metrics import accuracy_score\n",
    "\n",
    "import pickle"
   ]
  },
  {
   "cell_type": "code",
   "execution_count": 2,
   "id": "3ff6bb4c-988b-4df6-afcb-176308e44488",
   "metadata": {},
   "outputs": [
    {
     "name": "stdout",
     "output_type": "stream",
     "text": [
      "     target  mean smoothness  mean area\n",
      "0         0          0.11840     1001.0\n",
      "1         0          0.08474     1326.0\n",
      "2         0          0.10960     1203.0\n",
      "3         0          0.14250      386.1\n",
      "4         0          0.10030     1297.0\n",
      "..      ...              ...        ...\n",
      "564       0          0.11100     1479.0\n",
      "565       0          0.09780     1261.0\n",
      "566       0          0.08455      858.1\n",
      "567       0          0.11780     1265.0\n",
      "568       1          0.05263      181.0\n",
      "\n",
      "[569 rows x 3 columns]\n"
     ]
    }
   ],
   "source": [
    "data_breast_cancer = datasets.load_breast_cancer(as_frame=True)\n",
    "# print(data_breast_cancer)\n",
    "\n",
    "data = pd.concat([data_breast_cancer[\"target\"], data_breast_cancer[\"data\"]['mean smoothness'], data_breast_cancer[\"data\"]['mean area']], axis=1)\n",
    "\n",
    "print(data)"
   ]
  },
  {
   "cell_type": "markdown",
   "id": "086d1ced-2399-4ca7-81d1-d6efcc954daa",
   "metadata": {},
   "source": [
    "## data_iris = datasets.load_iris()\n",
    "print(data_iris)"
   ]
  },
  {
   "cell_type": "code",
   "execution_count": 3,
   "id": "a56afb38-d5d1-4cdb-8764-db59e2e1775b",
   "metadata": {},
   "outputs": [],
   "source": [
    "train, test = train_test_split(data, test_size=.2)"
   ]
  },
  {
   "cell_type": "code",
   "execution_count": 4,
   "id": "4281b653-4407-43eb-a634-44022dfd41eb",
   "metadata": {},
   "outputs": [
    {
     "name": "stdout",
     "output_type": "stream",
     "text": [
      "     target  mean smoothness  mean area\n",
      "486       1          0.08641      666.0\n",
      "167       0          0.08865      886.3\n",
      "257       0          0.13350      713.3\n",
      "260       0          0.10000     1288.0\n",
      "286       1          0.08605      441.0\n",
      "..      ...              ...        ...\n",
      "348       1          0.09076      402.7\n",
      "334       1          0.08313      464.4\n",
      "518       1          0.12180      493.1\n",
      "469       1          0.11750      408.8\n",
      "411       1          0.10770      373.2\n",
      "\n",
      "[455 rows x 3 columns]\n"
     ]
    }
   ],
   "source": [
    "print(train)"
   ]
  },
  {
   "cell_type": "code",
   "execution_count": 5,
   "id": "0660b98f-ea4b-46fc-8baa-bbefb8dec4ca",
   "metadata": {},
   "outputs": [
    {
     "name": "stdout",
     "output_type": "stream",
     "text": [
      "     target  mean smoothness  mean area\n",
      "118       0          0.11550      782.6\n",
      "491       1          0.07838      992.1\n",
      "444       0          0.08947      990.0\n",
      "335       0          0.11190      918.6\n",
      "291       1          0.08992      687.3\n",
      "..      ...              ...        ...\n",
      "228       1          0.07903      496.4\n",
      "541       1          0.08837      656.4\n",
      "514       0          0.09215      701.9\n",
      "308       1          0.07376      566.2\n",
      "136       1          0.10510      423.6\n",
      "\n",
      "[114 rows x 3 columns]\n"
     ]
    }
   ],
   "source": [
    "print(test)"
   ]
  },
  {
   "cell_type": "code",
   "execution_count": 6,
   "id": "969241e5-3afa-40c2-84cd-e42f951c86e7",
   "metadata": {},
   "outputs": [
    {
     "name": "stderr",
     "output_type": "stream",
     "text": [
      "C:\\Anaconda\\lib\\site-packages\\sklearn\\svm\\_base.py:985: ConvergenceWarning: Liblinear failed to converge, increase the number of iterations.\n",
      "  warnings.warn(\"Liblinear failed to converge, increase \"\n"
     ]
    },
    {
     "data": {
      "text/plain": [
       "Pipeline(steps=[('linear_svc', LinearSVC(loss='hinge'))])"
      ]
     },
     "execution_count": 6,
     "metadata": {},
     "output_type": "execute_result"
    }
   ],
   "source": [
    "svm_clf = Pipeline([(\"linear_svc\", LinearSVC(loss=\"hinge\"))])\n",
    "svm_clf.fit(train[['mean smoothness',  'mean area']], train['target'])"
   ]
  },
  {
   "cell_type": "code",
   "execution_count": 7,
   "id": "54163e72-9e67-4ad4-ada5-5711787784a6",
   "metadata": {},
   "outputs": [
    {
     "data": {
      "text/plain": [
       "Pipeline(steps=[('scaler', StandardScaler()),\n",
       "                ('linear_svc', LinearSVC(loss='hinge'))])"
      ]
     },
     "execution_count": 7,
     "metadata": {},
     "output_type": "execute_result"
    }
   ],
   "source": [
    "svm_clf_scl = Pipeline([(\"scaler\", StandardScaler()), (\"linear_svc\", LinearSVC(loss=\"hinge\"))])\n",
    "svm_clf_scl.fit(train[['mean smoothness',  'mean area']], train['target'])"
   ]
  },
  {
   "cell_type": "code",
   "execution_count": 8,
   "id": "7dee24ff-29eb-43fc-a7a7-017022a664ea",
   "metadata": {},
   "outputs": [],
   "source": [
    "X_train_pred = svm_clf.predict(train[['mean smoothness',  'mean area']])\n",
    "svm_clf_train_acc = accuracy_score(train['target'], X_train_pred)\n",
    "# print(svm_clf_acc)\n",
    "\n",
    "X_test_pred = svm_clf.predict(test[['mean smoothness',  'mean area']])\n",
    "svm_clf_test_acc = accuracy_score(test['target'], X_test_pred)\n",
    "# print(svm_clf_test_acc)"
   ]
  },
  {
   "cell_type": "code",
   "execution_count": 9,
   "id": "701a858e-e069-4f2e-b78c-918fc4bd16ab",
   "metadata": {},
   "outputs": [],
   "source": [
    "X_train_pred_scl = svm_clf_scl.predict(train[['mean smoothness',  'mean area']])\n",
    "svm_clf_scl_train_acc = accuracy_score(train['target'], X_train_pred_scl)\n",
    "# print(svm_clf_scl_train_acc)\n",
    "\n",
    "X_test_pred_scl = svm_clf_scl.predict(test[['mean smoothness',  'mean area']])\n",
    "svm_clf_scl_test_acc = accuracy_score(test['target'], X_test_pred_scl)\n",
    "# print(svm_clf_scl_test_acc)"
   ]
  },
  {
   "cell_type": "code",
   "execution_count": 10,
   "id": "288f5147-6be3-4a2c-8cd2-37c76ee06db0",
   "metadata": {},
   "outputs": [
    {
     "name": "stdout",
     "output_type": "stream",
     "text": [
      "train: 0.5098901098901099\n",
      "test: 0.45614035087719296\n",
      "train scaler: 0.9076923076923077\n",
      "test scaler: 0.8771929824561403\n"
     ]
    }
   ],
   "source": [
    "print(\"train:\", svm_clf_train_acc)\n",
    "print(\"test:\", svm_clf_test_acc)\n",
    "print(\"train scaler:\", svm_clf_scl_train_acc)\n",
    "print(\"test scaler:\", svm_clf_scl_test_acc)"
   ]
  },
  {
   "cell_type": "code",
   "execution_count": 11,
   "id": "81ef4317-c53c-46f1-8b56-4a72694b061a",
   "metadata": {},
   "outputs": [
    {
     "name": "stdout",
     "output_type": "stream",
     "text": [
      "[0.5098901098901099, 0.45614035087719296, 0.9076923076923077, 0.8771929824561403]\n"
     ]
    }
   ],
   "source": [
    "bc_acc = [svm_clf_train_acc, svm_clf_test_acc, svm_clf_scl_train_acc, svm_clf_scl_test_acc]\n",
    "\n",
    "file_mse_name = \"bc_acc.pkl\"\n",
    "\n",
    "open_file = open(file_mse_name, \"wb\")\n",
    "pickle.dump(bc_acc, open_file)\n",
    "open_file.close()\n",
    "\n",
    "open_file = open(file_mse_name, \"rb\")\n",
    "loaded_list = pickle.load(open_file)\n",
    "open_file.close()\n",
    "\n",
    "print(loaded_list)"
   ]
  },
  {
   "cell_type": "code",
   "execution_count": 12,
   "id": "0e95b662-be6a-47e2-b81d-4152aea03e7b",
   "metadata": {},
   "outputs": [
    {
     "name": "stdout",
     "output_type": "stream",
     "text": [
      "     target  petal length (cm)  petal width (cm)\n",
      "0     False                1.4               0.2\n",
      "1     False                1.4               0.2\n",
      "2     False                1.3               0.2\n",
      "3     False                1.5               0.2\n",
      "4     False                1.4               0.2\n",
      "..      ...                ...               ...\n",
      "145    True                5.2               2.3\n",
      "146    True                5.0               1.9\n",
      "147    True                5.2               2.0\n",
      "148    True                5.4               2.3\n",
      "149    True                5.1               1.8\n",
      "\n",
      "[150 rows x 3 columns]\n"
     ]
    }
   ],
   "source": [
    "iris = datasets.load_iris(as_frame=True)\n",
    "\n",
    "data_iris = pd.concat([iris[\"target\"]==2, iris[\"data\"]['petal length (cm)'], iris[\"data\"]['petal width (cm)']], axis=1)\n",
    "\n",
    "print(data_iris)"
   ]
  },
  {
   "cell_type": "code",
   "execution_count": 13,
   "id": "c6f678d4-cf04-467a-91e0-c6e9278e9d7b",
   "metadata": {},
   "outputs": [],
   "source": [
    "iris_train, iris_test = train_test_split(data_iris, test_size=.2)"
   ]
  },
  {
   "cell_type": "code",
   "execution_count": 14,
   "id": "6e9a54f0-b492-4923-be68-0673c7fcca5f",
   "metadata": {},
   "outputs": [
    {
     "name": "stdout",
     "output_type": "stream",
     "text": [
      "     target  petal length (cm)  petal width (cm)\n",
      "79    False                3.5               1.0\n",
      "23    False                1.7               0.5\n",
      "96    False                4.2               1.3\n",
      "36    False                1.3               0.2\n",
      "122    True                6.7               2.0\n",
      "..      ...                ...               ...\n",
      "0     False                1.4               0.2\n",
      "124    True                5.7               2.1\n",
      "142    True                5.1               1.9\n",
      "130    True                6.1               1.9\n",
      "139    True                5.4               2.1\n",
      "\n",
      "[120 rows x 3 columns]\n"
     ]
    }
   ],
   "source": [
    "print(iris_train)"
   ]
  },
  {
   "cell_type": "code",
   "execution_count": 15,
   "id": "836f5d24-7d59-4526-ae03-08d8c77dbcca",
   "metadata": {},
   "outputs": [
    {
     "name": "stdout",
     "output_type": "stream",
     "text": [
      "     target  petal length (cm)  petal width (cm)\n",
      "47    False                1.4               0.2\n",
      "12    False                1.4               0.1\n",
      "42    False                1.3               0.2\n",
      "65    False                4.4               1.4\n",
      "89    False                4.0               1.3\n",
      "120    True                5.7               2.3\n",
      "145    True                5.2               2.3\n",
      "106    True                4.5               1.7\n",
      "44    False                1.9               0.4\n",
      "9     False                1.5               0.1\n",
      "105    True                6.6               2.1\n",
      "39    False                1.5               0.2\n",
      "136    True                5.6               2.4\n",
      "75    False                4.4               1.4\n",
      "1     False                1.4               0.2\n",
      "108    True                5.8               1.8\n",
      "99    False                4.1               1.3\n",
      "113    True                5.0               2.0\n",
      "24    False                1.9               0.2\n",
      "118    True                6.9               2.3\n",
      "38    False                1.3               0.2\n",
      "6     False                1.4               0.3\n",
      "74    False                4.3               1.3\n",
      "20    False                1.7               0.2\n",
      "148    True                5.4               2.3\n",
      "67    False                4.1               1.0\n",
      "116    True                5.5               1.8\n",
      "123    True                4.9               1.8\n",
      "94    False                4.2               1.3\n",
      "125    True                6.0               1.8\n"
     ]
    }
   ],
   "source": [
    "print(iris_test)"
   ]
  },
  {
   "cell_type": "code",
   "execution_count": 16,
   "id": "4635c400-0272-4539-b5b9-92cc96afd2fe",
   "metadata": {},
   "outputs": [
    {
     "name": "stderr",
     "output_type": "stream",
     "text": [
      "C:\\Anaconda\\lib\\site-packages\\sklearn\\svm\\_base.py:985: ConvergenceWarning: Liblinear failed to converge, increase the number of iterations.\n",
      "  warnings.warn(\"Liblinear failed to converge, increase \"\n"
     ]
    },
    {
     "data": {
      "text/plain": [
       "Pipeline(steps=[('linear_svc', LinearSVC(loss='hinge'))])"
      ]
     },
     "execution_count": 16,
     "metadata": {},
     "output_type": "execute_result"
    }
   ],
   "source": [
    "iris_svm_clf = Pipeline([(\"linear_svc\", LinearSVC(loss=\"hinge\"))])\n",
    "iris_svm_clf.fit(iris_train[['petal length (cm)',  'petal width (cm)']], iris_train['target'])"
   ]
  },
  {
   "cell_type": "code",
   "execution_count": 17,
   "id": "c273b08c-3add-482c-b143-4148dd9c42ea",
   "metadata": {},
   "outputs": [
    {
     "data": {
      "text/plain": [
       "Pipeline(steps=[('scaler', StandardScaler()),\n",
       "                ('linear_svc', LinearSVC(loss='hinge'))])"
      ]
     },
     "execution_count": 17,
     "metadata": {},
     "output_type": "execute_result"
    }
   ],
   "source": [
    "iris_svm_clf_scl = Pipeline([(\"scaler\", StandardScaler()), (\"linear_svc\", LinearSVC(loss=\"hinge\"))])\n",
    "iris_svm_clf_scl.fit(iris_test[['petal length (cm)',  'petal width (cm)']], iris_test['target'])"
   ]
  },
  {
   "cell_type": "code",
   "execution_count": 18,
   "id": "6194f506-2c93-49bf-a179-dcfc97d5cdb3",
   "metadata": {},
   "outputs": [],
   "source": [
    "iris_X_train_pred = svm_clf.predict(iris_train[['petal length (cm)',  'petal width (cm)']])\n",
    "iris_svm_clf_train_acc = accuracy_score(iris_train['target'], iris_X_train_pred)\n",
    "# print(svm_clf_acc)\n",
    "\n",
    "iris_X_test_pred = svm_clf.predict(iris_test[['petal length (cm)',  'petal width (cm)']])\n",
    "iris_svm_clf_test_acc = accuracy_score(iris_test['target'], iris_X_test_pred)\n",
    "# print(svm_clf_test_acc)"
   ]
  },
  {
   "cell_type": "code",
   "execution_count": 19,
   "id": "c8efcc5e-00bf-4f3e-b638-2ea35db9ce8f",
   "metadata": {},
   "outputs": [],
   "source": [
    "iris_X_train_pred = svm_clf_scl.predict(iris_train[['petal length (cm)',  'petal width (cm)']])\n",
    "iris_svm_clf_scl_train_acc = accuracy_score(iris_train['target'], iris_X_train_pred)\n",
    "# print(svm_clf_acc)\n",
    "\n",
    "iris_X_test_pred = svm_clf_scl.predict(iris_test[['petal length (cm)',  'petal width (cm)']])\n",
    "iris_svm_clf_scl_test_acc = accuracy_score(iris_test['target'], iris_X_test_pred)\n",
    "# print(svm_clf_test_acc)"
   ]
  },
  {
   "cell_type": "code",
   "execution_count": 20,
   "id": "f8028cca-966c-43e6-9d9f-8e84d0bae9cc",
   "metadata": {},
   "outputs": [
    {
     "name": "stdout",
     "output_type": "stream",
     "text": [
      "train: 0.31666666666666665\n",
      "test: 0.4\n",
      "train scaler: 0.6833333333333333\n",
      "test scaler: 0.6\n"
     ]
    }
   ],
   "source": [
    "print(\"train:\", iris_svm_clf_train_acc)\n",
    "print(\"test:\", iris_svm_clf_test_acc)\n",
    "print(\"train scaler:\", iris_svm_clf_scl_train_acc)\n",
    "print(\"test scaler:\", iris_svm_clf_scl_test_acc)"
   ]
  },
  {
   "cell_type": "code",
   "execution_count": 21,
   "id": "e1acffec-46a3-44fe-b2c9-7e702bfad177",
   "metadata": {},
   "outputs": [
    {
     "name": "stdout",
     "output_type": "stream",
     "text": [
      "[0.31666666666666665, 0.4, 0.6833333333333333, 0.6]\n"
     ]
    }
   ],
   "source": [
    "iris_acc = [iris_svm_clf_train_acc, iris_svm_clf_test_acc, iris_svm_clf_scl_train_acc, iris_svm_clf_scl_test_acc]\n",
    "\n",
    "file_mse_name = \"iris_acc.pkl\"\n",
    "\n",
    "open_file = open(file_mse_name, \"wb\")\n",
    "pickle.dump(iris_acc, open_file)\n",
    "open_file.close()\n",
    "\n",
    "open_file = open(file_mse_name, \"rb\")\n",
    "loaded_list = pickle.load(open_file)\n",
    "open_file.close()\n",
    "\n",
    "print(loaded_list)"
   ]
  }
 ],
 "metadata": {
  "kernelspec": {
   "display_name": "Python 3 (ipykernel)",
   "language": "python",
   "name": "python3"
  },
  "language_info": {
   "codemirror_mode": {
    "name": "ipython",
    "version": 3
   },
   "file_extension": ".py",
   "mimetype": "text/x-python",
   "name": "python",
   "nbconvert_exporter": "python",
   "pygments_lexer": "ipython3",
   "version": "3.9.7"
  }
 },
 "nbformat": 4,
 "nbformat_minor": 5
}
