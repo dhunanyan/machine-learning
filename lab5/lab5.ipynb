{
 "cells": [
  {
   "cell_type": "code",
   "execution_count": 1,
   "id": "22e1e2ef-0926-42e5-a7f0-5c7e4aa29d95",
   "metadata": {},
   "outputs": [],
   "source": [
    "import numpy as np\n",
    "import pandas as pd\n",
    "\n",
    "from sklearn import datasets\n",
    "from sklearn.model_selection import train_test_split\n",
    "from sklearn.tree import DecisionTreeClassifier\n",
    "from sklearn.tree import export_graphviz\n",
    "from sklearn.metrics import f1_score"
   ]
  },
  {
   "cell_type": "code",
   "execution_count": 2,
   "id": "7dd207c0-dab1-4872-8181-bc32cbb767c4",
   "metadata": {},
   "outputs": [],
   "source": [
    "data_breast_cancer = datasets.load_breast_cancer(as_frame=True)\n",
    "# print(data_breast_cancer['DESCR'])"
   ]
  },
  {
   "cell_type": "code",
   "execution_count": 3,
   "id": "32743050-8ec9-41bb-a3eb-2266ced595b4",
   "metadata": {},
   "outputs": [
    {
     "data": {
      "text/plain": [
       "<AxesSubplot:xlabel='x', ylabel='y'>"
      ]
     },
     "execution_count": 3,
     "metadata": {},
     "output_type": "execute_result"
    },
    {
     "data": {
      "image/png": "[encoded data removed]",
      "text/plain": [
       "<Figure size 432x288 with 1 Axes>"
      ]
     },
     "metadata": {
      "needs_background": "light"
     },
     "output_type": "display_data"
    }
   ],
   "source": [
    "size = 300\n",
    "X = np.random.rand(size)*5-2.5\n",
    "w4, w3, w2, w1, w0 = 1, 2, 1, -4, 2\n",
    "y = w4*(X**4) + w3*(X**3) + w2*(X**2) + w1*X + w0 + np.random.randn(size)*8-4\n",
    "df = pd.DataFrame({'x': X, 'y': y})\n",
    "df.plot.scatter(x='x',y='y')"
   ]
  },
  {
   "cell_type": "code",
   "execution_count": 4,
   "id": "bb8229a2-ede1-455f-b23c-f44fd0ce360b",
   "metadata": {},
   "outputs": [],
   "source": [
    "cancer_data = pd.concat([data_breast_cancer[\"target\"], data_breast_cancer[\"data\"]['mean texture'], data_breast_cancer[\"data\"]['mean symmetry']], axis=1)"
   ]
  },
  {
   "cell_type": "code",
   "execution_count": 5,
   "id": "c271eb21-e0b2-46a3-b00a-d4c87ced9586",
   "metadata": {},
   "outputs": [
    {
     "name": "stdout",
     "output_type": "stream",
     "text": [
      "1-th optimal max_depth=2 0.8221476510067114, 0.8280254777070064\n",
      "2-th optimal max_depth=3 0.8393782383419688, 0.8050314465408805\n",
      "3-th optimal max_depth=3 0.8431061806656102, 0.8\n",
      "4-th optimal max_depth=3 0.8309178743961354, 0.8322981366459626\n",
      "5-th optimal max_depth=3 0.8380952380952381, 0.8104575163398693\n",
      "6-th optimal max_depth=2 0.8280467445742904, 0.8301886792452831\n",
      "7-th optimal max_depth=1 0.7773722627737226, 0.787878787878788\n",
      "8-th optimal max_depth=3 0.8344155844155844, 0.8133333333333332\n",
      "9-th optimal max_depth=4 0.8338983050847457, 0.8484848484848484\n",
      "10-th optimal max_depth=2 0.8260869565217391, 0.8395061728395061\n",
      "11-th optimal max_depth=3 0.8091872791519434, 0.8\n",
      "12-th optimal max_depth=2 0.8412438625204582, 0.7870967741935484\n",
      "13-th optimal max_depth=3 0.8450244698205547, 0.7919463087248322\n",
      "14-th optimal max_depth=3 0.832764505119454, 0.8108108108108109\n",
      "15-th optimal max_depth=2 0.8308702791461412, 0.8027210884353742\n",
      "16-th optimal max_depth=3 0.8269896193771625, 0.8441558441558441\n",
      "17-th optimal max_depth=2 0.8472906403940886, 0.7549668874172185\n",
      "18-th optimal max_depth=2 0.8306188925081432, 0.8219178082191781\n",
      "19-th optimal max_depth=4 0.8453947368421052, 0.8142857142857143\n",
      "20-th optimal max_depth=3 0.8333333333333333, 0.8299319727891157\n",
      "[0, 1, 7, 10, 2, 0, 0, 0, 0, 0, 0, 0, 0, 0, 0, 0, 0, 0, 0, 0]\n",
      "10/20 times the optimal was max_depth=4\n"
     ]
    }
   ],
   "source": [
    "# f = \"data_breast_cancer_tree.dot\"\n",
    "# export_graphviz(tree_clf, out_file=f, feature_names=['mean texture',  'mean symmetry'], class_names=[str(num)+\", \"+name for num,name in zip(set(data_breast_cancer.target), data_breast_cancer.target_names)], rounded=True, filled=True)\n",
    "# print(f)\n",
    "# cancer_score = f1_score(train['target'], y_train_pred)\n",
    "# print(f'f1_score_max_depth=none: {cancer_score}')\n",
    "\n",
    "\n",
    "max_depths_amounts = [0,0,0,0,0,0,0,0,0,0,0,0,0,0,0,0,0,0,0,0]\n",
    "\n",
    "for j in range(20):\n",
    "    train, test = train_test_split(cancer_data, test_size=.2)\n",
    "    max_train_score = 0\n",
    "    max_test_score = 0\n",
    "    max_depth = None\n",
    "    for i in range(20):\n",
    "        if(i == 0):\n",
    "            tree_clf_perm = DecisionTreeClassifier()\n",
    "            tree_clf_perm.fit(train[['mean texture',  'mean symmetry']], train['target'])\n",
    "        else:\n",
    "            tree_clf_perm = DecisionTreeClassifier(max_depth=i)\n",
    "            tree_clf_perm.fit(train[['mean texture',  'mean symmetry']], train['target'])\n",
    "\n",
    "        y_train_pred_perm = tree_clf_perm.predict(train[['mean texture',  'mean symmetry']])\n",
    "        y_test_pred_perm = tree_clf_perm.predict(test[['mean texture',  'mean symmetry']])\n",
    "\n",
    "        cancer_score_train_perm = f1_score(train['target'], y_train_pred_perm)\n",
    "        cancer_score_test_perm = f1_score(test['target'], y_test_pred_perm)\n",
    "        if((cancer_score_train_perm < 1 and cancer_score_test_perm < 1) and (max_train_score < cancer_score_train_perm and max_test_score < cancer_score_test_perm)):\n",
    "            max_train_score = cancer_score_train_perm\n",
    "            max_test_score = cancer_score_test_perm\n",
    "            max_depth = i\n",
    "        else:\n",
    "            max_train_test_score = None\n",
    "        # if(i == 0):\n",
    "            # print(f'max_depth=none \\n TRAIN: {cancer_score_train_perm} | TEST: {cancer_score_test_perm} \\n ')\n",
    "        # else:\n",
    "            # print(f'max_depth={i} \\n TRAIN: {cancer_score_train_perm} | TEST: {cancer_score_test_perm} \\n ')\n",
    "    print(f'{j+1}-th optimal max_depth={max_depth} {max_train_score}, {max_test_score}')\n",
    "    max_depths_amounts[max_depth] =  max_depths_amounts[max_depth] + 1\n",
    "print(max_depths_amounts)\n",
    "\n",
    "max_depth_max_count = 0\n",
    "max_depth_max_count_index = None\n",
    "\n",
    "for index,count  in enumerate(max_depths_amounts):\n",
    "    if(max_depth_max_count < count):\n",
    "        max_depth_max_count_index = index\n",
    "        max_depth_max_count = count\n",
    "        \n",
    "print(f'{max_depth_max_count}/20 times the optimal was max_depth={max_depth_max_count_index+1}')"
   ]
  },
  {
   "cell_type": "code",
   "execution_count": 6,
   "id": "8be7c4b9-079a-4ac8-b491-681ea6b693c7",
   "metadata": {},
   "outputs": [
    {
     "name": "stdout",
     "output_type": "stream",
     "text": [
      "['malignant' 'benign'] \n",
      " 0      0\n",
      "1      0\n",
      "2      0\n",
      "3      0\n",
      "4      0\n",
      "      ..\n",
      "564    0\n",
      "565    0\n",
      "566    0\n",
      "567    0\n",
      "568    1\n",
      "Name: target, Length: 569, dtype: int32\n",
      "[1 0 1 1 0 1 1 1 1 1 0 0 1 1 1 0 1 1 0 0 1 0 1 0 1 0 1 1 1 1 1 1 1 1 1 1 0\n",
      " 0 0 1 1 1 1 1 1 1 0 1 0 1 1 0 1 1 0 1 1 1 1 0 0 0 0 1 1 1 1 1 1 1 0 1 1 1\n",
      " 1 1 0 0 1 1 0 1 1 1 0 1 1 0 1 0 0 1 0 1 0 1 1 1 1 1 1 1 1 1 0 1 1 1 1 1 1\n",
      " 0 0 1 1 1 1 1 1 1 1 1 1 1 0 1 0 1 1 1 1 1 0 1 0 0 0 1 0 1 0 0 1 1 1 1 1 1\n",
      " 1 1 0 1 1 0 1 1 0 1 1 1 1 1 0 1 1 1 1 0 0 1 1 0 0 1 1 1 1 1 1 0 1 1 1 1 1\n",
      " 0 0 1 0 1 1 0 0 1 1 1 1 0 1 1 1 1 1 1 0 1 1 1 1 0 1 1 1 1 0 0 1 1 1 0 1 1\n",
      " 1 1 1 0 1 1 1 0 0 1 1 1 0 1 1 0 0 1 1 0 1 1 1 1 1 0 1 1 1 1 1 0 1 0 0 1 0\n",
      " 1 1 0 1 1 1 1 1 0 1 1 0 1 1 0 0 1 1 0 0 1 0 0 1 0 0 0 0 0 1 1 1 1 1 1 0 1\n",
      " 0 0 1 0 1 1 1 1 1 0 1 0 1 1 1 1 1 1 1 1 1 1 1 1 1 1 1 1 1 1 1 1 1 0 1 1 0\n",
      " 0 1 0 1 1 0 1 0 0 0 1 1 1 1 1 1 1 1 0 1 0 0 0 0 1 1 1 0 1 1 1 1 1 1 0 1 0\n",
      " 0 0 0 0 1 1 1 1 0 1 1 0 1 1 1 1 1 1 1 1 0 1 1 0 1 0 1 0 0 1 1 1 1 1 0 0 1\n",
      " 1 1 1 1 0 1 1 1 1 1 1 0 1 1 1 0 1 1 1 1 0 1 1 1 1 1 1 1 0 0 0 1 1 1 0 0 0\n",
      " 0 1 1 0 1 1 0 1 0 1 1]\n"
     ]
    }
   ],
   "source": [
    "train, test = train_test_split(cancer_data, test_size=.2)\n",
    "tree_clf = DecisionTreeClassifier(max_depth=3)\n",
    "tree_clf.fit(train[['mean texture',  'mean symmetry']], train['target'])\n",
    "y_train_pred = tree_clf.predict(train[['mean texture',  'mean symmetry']])\n",
    "\n",
    "print(data_breast_cancer.target_names,\"\\n\",  data_breast_cancer['target'])\n",
    "print(y_train_pred)"
   ]
  }
 ],
 "metadata": {
  "kernelspec": {
   "display_name": "Python 3 (ipykernel)",
   "language": "python",
   "name": "python3"
  },
  "language_info": {
   "codemirror_mode": {
    "name": "ipython",
    "version": 3
   },
   "file_extension": ".py",
   "mimetype": "text/x-python",
   "name": "python",
   "nbconvert_exporter": "python",
   "pygments_lexer": "ipython3",
   "version": "3.9.7"
  }
 },
 "nbformat": 4,
 "nbformat_minor": 5
}
